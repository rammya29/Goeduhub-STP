{
  "nbformat": 4,
  "nbformat_minor": 0,
  "metadata": {
    "colab": {
      "name": "Assignment / Task - 11.ipynb",
      "provenance": [],
      "authorship_tag": "ABX9TyN/ShuQFIEADyJS/QUDiOEv",
      "include_colab_link": true
    },
    "kernelspec": {
      "name": "python3",
      "display_name": "Python 3"
    },
    "language_info": {
      "name": "python"
    }
  },
  "cells": [
    {
      "cell_type": "markdown",
      "metadata": {
        "id": "view-in-github",
        "colab_type": "text"
      },
      "source": [
        "<a href=\"https://colab.research.google.com/github/rammya29/Goeduhub-STP/blob/main/Assignment_Task_11.ipynb\" target=\"_parent\"><img src=\"https://colab.research.google.com/assets/colab-badge.svg\" alt=\"Open In Colab\"/></a>"
      ]
    },
    {
      "cell_type": "markdown",
      "metadata": {
        "id": "unREMeOWBcLz"
      },
      "source": [
        "#Assignment / Task - 11"
      ]
    },
    {
      "cell_type": "markdown",
      "metadata": {
        "id": "ZMN254f6Beef"
      },
      "source": [
        "##Predict Loan Eligibility for Dream Housing Finance company"
      ]
    },
    {
      "cell_type": "markdown",
      "metadata": {
        "id": "hKZywCssBtsc"
      },
      "source": [
        "Dream Housing Finance company deals in all kinds of home loans. They have presence across all urban, semi urban and rural areas. Customer first applies for home loan and after that company validates the customer eligibility for loan."
      ]
    },
    {
      "cell_type": "markdown",
      "metadata": {
        "id": "oSuysAtjCiDX"
      },
      "source": [
        "Company wants to automate the loan eligibility process (real time) based on customer detail provided while filling online application form. These details are Gender, Marital Status, Education, Number of Dependents, Income, Loan Amount, Credit History and others. To automate this process, they have provided a dataset to identify the customers segments that are eligible for loan amount so that they can specifically target these customers.\n",
        "\n",
        "[Dataset](https://www.kaggle.com/ajaymanwani/loan-approval-prediction)"
      ]
    },
    {
      "cell_type": "code",
      "metadata": {
        "id": "-EHlseqjBTU4"
      },
      "source": [
        "import pandas as pd\n",
        "import numpy as np\n",
        "import seaborn as sns\n",
        "import matplotlib.pyplot as plt\n",
        "import sklearn"
      ],
      "execution_count": null,
      "outputs": []
    },
    {
      "cell_type": "code",
      "metadata": {
        "colab": {
          "base_uri": "https://localhost:8080/",
          "height": 241
        },
        "id": "bGWWNQb0cs9b",
        "outputId": "b8e80053-38e7-48c2-cf82-03ef20530d76"
      },
      "source": [
        "df = pd.read_csv('/content/task11.csv')\n",
        "df.head()"
      ],
      "execution_count": null,
      "outputs": [
        {
          "output_type": "execute_result",
          "data": {
            "text/html": [
              "<div>\n",
              "<style scoped>\n",
              "    .dataframe tbody tr th:only-of-type {\n",
              "        vertical-align: middle;\n",
              "    }\n",
              "\n",
              "    .dataframe tbody tr th {\n",
              "        vertical-align: top;\n",
              "    }\n",
              "\n",
              "    .dataframe thead th {\n",
              "        text-align: right;\n",
              "    }\n",
              "</style>\n",
              "<table border=\"1\" class=\"dataframe\">\n",
              "  <thead>\n",
              "    <tr style=\"text-align: right;\">\n",
              "      <th></th>\n",
              "      <th>Loan_ID</th>\n",
              "      <th>Gender</th>\n",
              "      <th>Married</th>\n",
              "      <th>Dependents</th>\n",
              "      <th>Education</th>\n",
              "      <th>Self_Employed</th>\n",
              "      <th>ApplicantIncome</th>\n",
              "      <th>CoapplicantIncome</th>\n",
              "      <th>LoanAmount</th>\n",
              "      <th>Loan_Amount_Term</th>\n",
              "      <th>Credit_History</th>\n",
              "      <th>Property_Area</th>\n",
              "      <th>Loan_Status</th>\n",
              "    </tr>\n",
              "  </thead>\n",
              "  <tbody>\n",
              "    <tr>\n",
              "      <th>0</th>\n",
              "      <td>LP001002</td>\n",
              "      <td>Male</td>\n",
              "      <td>No</td>\n",
              "      <td>0</td>\n",
              "      <td>Graduate</td>\n",
              "      <td>No</td>\n",
              "      <td>5849</td>\n",
              "      <td>0.0</td>\n",
              "      <td>NaN</td>\n",
              "      <td>360.0</td>\n",
              "      <td>1.0</td>\n",
              "      <td>Urban</td>\n",
              "      <td>Y</td>\n",
              "    </tr>\n",
              "    <tr>\n",
              "      <th>1</th>\n",
              "      <td>LP001003</td>\n",
              "      <td>Male</td>\n",
              "      <td>Yes</td>\n",
              "      <td>1</td>\n",
              "      <td>Graduate</td>\n",
              "      <td>No</td>\n",
              "      <td>4583</td>\n",
              "      <td>1508.0</td>\n",
              "      <td>128.0</td>\n",
              "      <td>360.0</td>\n",
              "      <td>1.0</td>\n",
              "      <td>Rural</td>\n",
              "      <td>N</td>\n",
              "    </tr>\n",
              "    <tr>\n",
              "      <th>2</th>\n",
              "      <td>LP001005</td>\n",
              "      <td>Male</td>\n",
              "      <td>Yes</td>\n",
              "      <td>0</td>\n",
              "      <td>Graduate</td>\n",
              "      <td>Yes</td>\n",
              "      <td>3000</td>\n",
              "      <td>0.0</td>\n",
              "      <td>66.0</td>\n",
              "      <td>360.0</td>\n",
              "      <td>1.0</td>\n",
              "      <td>Urban</td>\n",
              "      <td>Y</td>\n",
              "    </tr>\n",
              "    <tr>\n",
              "      <th>3</th>\n",
              "      <td>LP001006</td>\n",
              "      <td>Male</td>\n",
              "      <td>Yes</td>\n",
              "      <td>0</td>\n",
              "      <td>Not Graduate</td>\n",
              "      <td>No</td>\n",
              "      <td>2583</td>\n",
              "      <td>2358.0</td>\n",
              "      <td>120.0</td>\n",
              "      <td>360.0</td>\n",
              "      <td>1.0</td>\n",
              "      <td>Urban</td>\n",
              "      <td>Y</td>\n",
              "    </tr>\n",
              "    <tr>\n",
              "      <th>4</th>\n",
              "      <td>LP001008</td>\n",
              "      <td>Male</td>\n",
              "      <td>No</td>\n",
              "      <td>0</td>\n",
              "      <td>Graduate</td>\n",
              "      <td>No</td>\n",
              "      <td>6000</td>\n",
              "      <td>0.0</td>\n",
              "      <td>141.0</td>\n",
              "      <td>360.0</td>\n",
              "      <td>1.0</td>\n",
              "      <td>Urban</td>\n",
              "      <td>Y</td>\n",
              "    </tr>\n",
              "  </tbody>\n",
              "</table>\n",
              "</div>"
            ],
            "text/plain": [
              "    Loan_ID Gender Married  ... Credit_History Property_Area Loan_Status\n",
              "0  LP001002   Male      No  ...            1.0         Urban           Y\n",
              "1  LP001003   Male     Yes  ...            1.0         Rural           N\n",
              "2  LP001005   Male     Yes  ...            1.0         Urban           Y\n",
              "3  LP001006   Male     Yes  ...            1.0         Urban           Y\n",
              "4  LP001008   Male      No  ...            1.0         Urban           Y\n",
              "\n",
              "[5 rows x 13 columns]"
            ]
          },
          "metadata": {
            "tags": []
          },
          "execution_count": 3
        }
      ]
    },
    {
      "cell_type": "code",
      "metadata": {
        "colab": {
          "base_uri": "https://localhost:8080/"
        },
        "id": "81tEVwTluUwC",
        "outputId": "b74ba223-0328-4a5b-b3a1-311ee9238e1a"
      },
      "source": [
        "df.shape"
      ],
      "execution_count": null,
      "outputs": [
        {
          "output_type": "execute_result",
          "data": {
            "text/plain": [
              "(614, 13)"
            ]
          },
          "metadata": {
            "tags": []
          },
          "execution_count": 4
        }
      ]
    },
    {
      "cell_type": "code",
      "metadata": {
        "colab": {
          "base_uri": "https://localhost:8080/"
        },
        "id": "q13KUfEAuH29",
        "outputId": "e89e3a40-8abb-445a-ff8f-bfbd5deb7755"
      },
      "source": [
        "df.dtypes"
      ],
      "execution_count": null,
      "outputs": [
        {
          "output_type": "execute_result",
          "data": {
            "text/plain": [
              "Loan_ID               object\n",
              "Gender                object\n",
              "Married               object\n",
              "Dependents            object\n",
              "Education             object\n",
              "Self_Employed         object\n",
              "ApplicantIncome        int64\n",
              "CoapplicantIncome    float64\n",
              "LoanAmount           float64\n",
              "Loan_Amount_Term     float64\n",
              "Credit_History       float64\n",
              "Property_Area         object\n",
              "Loan_Status           object\n",
              "dtype: object"
            ]
          },
          "metadata": {
            "tags": []
          },
          "execution_count": 5
        }
      ]
    },
    {
      "cell_type": "code",
      "metadata": {
        "colab": {
          "base_uri": "https://localhost:8080/",
          "height": 204
        },
        "id": "3FP8SOVSuNql",
        "outputId": "5a26e700-23b7-470a-9afe-5dc75891eb47"
      },
      "source": [
        "df.corr()"
      ],
      "execution_count": null,
      "outputs": [
        {
          "output_type": "execute_result",
          "data": {
            "text/html": [
              "<div>\n",
              "<style scoped>\n",
              "    .dataframe tbody tr th:only-of-type {\n",
              "        vertical-align: middle;\n",
              "    }\n",
              "\n",
              "    .dataframe tbody tr th {\n",
              "        vertical-align: top;\n",
              "    }\n",
              "\n",
              "    .dataframe thead th {\n",
              "        text-align: right;\n",
              "    }\n",
              "</style>\n",
              "<table border=\"1\" class=\"dataframe\">\n",
              "  <thead>\n",
              "    <tr style=\"text-align: right;\">\n",
              "      <th></th>\n",
              "      <th>ApplicantIncome</th>\n",
              "      <th>CoapplicantIncome</th>\n",
              "      <th>LoanAmount</th>\n",
              "      <th>Loan_Amount_Term</th>\n",
              "      <th>Credit_History</th>\n",
              "    </tr>\n",
              "  </thead>\n",
              "  <tbody>\n",
              "    <tr>\n",
              "      <th>ApplicantIncome</th>\n",
              "      <td>1.000000</td>\n",
              "      <td>-0.116605</td>\n",
              "      <td>0.570909</td>\n",
              "      <td>-0.045306</td>\n",
              "      <td>-0.014715</td>\n",
              "    </tr>\n",
              "    <tr>\n",
              "      <th>CoapplicantIncome</th>\n",
              "      <td>-0.116605</td>\n",
              "      <td>1.000000</td>\n",
              "      <td>0.188619</td>\n",
              "      <td>-0.059878</td>\n",
              "      <td>-0.002056</td>\n",
              "    </tr>\n",
              "    <tr>\n",
              "      <th>LoanAmount</th>\n",
              "      <td>0.570909</td>\n",
              "      <td>0.188619</td>\n",
              "      <td>1.000000</td>\n",
              "      <td>0.039447</td>\n",
              "      <td>-0.008433</td>\n",
              "    </tr>\n",
              "    <tr>\n",
              "      <th>Loan_Amount_Term</th>\n",
              "      <td>-0.045306</td>\n",
              "      <td>-0.059878</td>\n",
              "      <td>0.039447</td>\n",
              "      <td>1.000000</td>\n",
              "      <td>0.001470</td>\n",
              "    </tr>\n",
              "    <tr>\n",
              "      <th>Credit_History</th>\n",
              "      <td>-0.014715</td>\n",
              "      <td>-0.002056</td>\n",
              "      <td>-0.008433</td>\n",
              "      <td>0.001470</td>\n",
              "      <td>1.000000</td>\n",
              "    </tr>\n",
              "  </tbody>\n",
              "</table>\n",
              "</div>"
            ],
            "text/plain": [
              "                   ApplicantIncome  ...  Credit_History\n",
              "ApplicantIncome           1.000000  ...       -0.014715\n",
              "CoapplicantIncome        -0.116605  ...       -0.002056\n",
              "LoanAmount                0.570909  ...       -0.008433\n",
              "Loan_Amount_Term         -0.045306  ...        0.001470\n",
              "Credit_History           -0.014715  ...        1.000000\n",
              "\n",
              "[5 rows x 5 columns]"
            ]
          },
          "metadata": {
            "tags": []
          },
          "execution_count": 6
        }
      ]
    },
    {
      "cell_type": "code",
      "metadata": {
        "id": "sERiFDEGt-Bv"
      },
      "source": [
        "data= df['Property_Area'].values"
      ],
      "execution_count": null,
      "outputs": []
    },
    {
      "cell_type": "code",
      "metadata": {
        "colab": {
          "base_uri": "https://localhost:8080/"
        },
        "id": "RKQfoPFyuPsC",
        "outputId": "5e3fb477-76d4-4b1d-cae5-7e0d4a597473"
      },
      "source": [
        "df.isnull().sum()"
      ],
      "execution_count": null,
      "outputs": [
        {
          "output_type": "execute_result",
          "data": {
            "text/plain": [
              "Loan_ID               0\n",
              "Gender               13\n",
              "Married               3\n",
              "Dependents           15\n",
              "Education             0\n",
              "Self_Employed        32\n",
              "ApplicantIncome       0\n",
              "CoapplicantIncome     0\n",
              "LoanAmount           22\n",
              "Loan_Amount_Term     14\n",
              "Credit_History       50\n",
              "Property_Area         0\n",
              "Loan_Status           0\n",
              "dtype: int64"
            ]
          },
          "metadata": {
            "tags": []
          },
          "execution_count": 8
        }
      ]
    },
    {
      "cell_type": "code",
      "metadata": {
        "colab": {
          "base_uri": "https://localhost:8080/"
        },
        "id": "QjbtiZjpuywe",
        "outputId": "2ce87f4b-731d-4067-c233-5ad140649f0b"
      },
      "source": [
        "from sklearn.preprocessing import LabelEncoder\n",
        "le=LabelEncoder()\n",
        "df.Property_Area=le.fit_transform(df.Property_Area)\n",
        "df.Property_Area.head(20)"
      ],
      "execution_count": null,
      "outputs": [
        {
          "output_type": "execute_result",
          "data": {
            "text/plain": [
              "0     2\n",
              "1     0\n",
              "2     2\n",
              "3     2\n",
              "4     2\n",
              "5     2\n",
              "6     2\n",
              "7     1\n",
              "8     2\n",
              "9     1\n",
              "10    2\n",
              "11    2\n",
              "12    2\n",
              "13    0\n",
              "14    2\n",
              "15    2\n",
              "16    2\n",
              "17    2\n",
              "18    0\n",
              "19    2\n",
              "Name: Property_Area, dtype: int64"
            ]
          },
          "metadata": {
            "tags": []
          },
          "execution_count": 9
        }
      ]
    },
    {
      "cell_type": "code",
      "metadata": {
        "colab": {
          "base_uri": "https://localhost:8080/"
        },
        "id": "JKFRgYZ-u5Xx",
        "outputId": "b7ccde6f-7cd0-4695-e7d2-ca256ddfd393"
      },
      "source": [
        "df.Loan_Status=le.fit_transform(df.Loan_Status)\n",
        "df.Loan_Status.head(20)"
      ],
      "execution_count": null,
      "outputs": [
        {
          "output_type": "execute_result",
          "data": {
            "text/plain": [
              "0     1\n",
              "1     0\n",
              "2     1\n",
              "3     1\n",
              "4     1\n",
              "5     1\n",
              "6     1\n",
              "7     0\n",
              "8     1\n",
              "9     0\n",
              "10    1\n",
              "11    1\n",
              "12    1\n",
              "13    0\n",
              "14    1\n",
              "15    1\n",
              "16    1\n",
              "17    0\n",
              "18    0\n",
              "19    1\n",
              "Name: Loan_Status, dtype: int64"
            ]
          },
          "metadata": {
            "tags": []
          },
          "execution_count": 10
        }
      ]
    },
    {
      "cell_type": "code",
      "metadata": {
        "colab": {
          "base_uri": "https://localhost:8080/",
          "height": 456
        },
        "id": "dtv4_uswu_In",
        "outputId": "9253eb9e-4560-4cfc-c4ca-def713f0528f"
      },
      "source": [
        "newdf=df.replace(np.NAN,{'LoanAmount':100,'Loan_Amount_Term':360.0,'Credit_History':1.0})\n",
        "newdf"
      ],
      "execution_count": null,
      "outputs": [
        {
          "output_type": "execute_result",
          "data": {
            "text/html": [
              "<div>\n",
              "<style scoped>\n",
              "    .dataframe tbody tr th:only-of-type {\n",
              "        vertical-align: middle;\n",
              "    }\n",
              "\n",
              "    .dataframe tbody tr th {\n",
              "        vertical-align: top;\n",
              "    }\n",
              "\n",
              "    .dataframe thead th {\n",
              "        text-align: right;\n",
              "    }\n",
              "</style>\n",
              "<table border=\"1\" class=\"dataframe\">\n",
              "  <thead>\n",
              "    <tr style=\"text-align: right;\">\n",
              "      <th></th>\n",
              "      <th>Loan_ID</th>\n",
              "      <th>Gender</th>\n",
              "      <th>Married</th>\n",
              "      <th>Dependents</th>\n",
              "      <th>Education</th>\n",
              "      <th>Self_Employed</th>\n",
              "      <th>ApplicantIncome</th>\n",
              "      <th>CoapplicantIncome</th>\n",
              "      <th>LoanAmount</th>\n",
              "      <th>Loan_Amount_Term</th>\n",
              "      <th>Credit_History</th>\n",
              "      <th>Property_Area</th>\n",
              "      <th>Loan_Status</th>\n",
              "    </tr>\n",
              "  </thead>\n",
              "  <tbody>\n",
              "    <tr>\n",
              "      <th>0</th>\n",
              "      <td>LP001002</td>\n",
              "      <td>Male</td>\n",
              "      <td>No</td>\n",
              "      <td>0</td>\n",
              "      <td>Graduate</td>\n",
              "      <td>No</td>\n",
              "      <td>5849</td>\n",
              "      <td>0.0</td>\n",
              "      <td>100.0</td>\n",
              "      <td>360.0</td>\n",
              "      <td>1.0</td>\n",
              "      <td>2</td>\n",
              "      <td>1</td>\n",
              "    </tr>\n",
              "    <tr>\n",
              "      <th>1</th>\n",
              "      <td>LP001003</td>\n",
              "      <td>Male</td>\n",
              "      <td>Yes</td>\n",
              "      <td>1</td>\n",
              "      <td>Graduate</td>\n",
              "      <td>No</td>\n",
              "      <td>4583</td>\n",
              "      <td>1508.0</td>\n",
              "      <td>128.0</td>\n",
              "      <td>360.0</td>\n",
              "      <td>1.0</td>\n",
              "      <td>0</td>\n",
              "      <td>0</td>\n",
              "    </tr>\n",
              "    <tr>\n",
              "      <th>2</th>\n",
              "      <td>LP001005</td>\n",
              "      <td>Male</td>\n",
              "      <td>Yes</td>\n",
              "      <td>0</td>\n",
              "      <td>Graduate</td>\n",
              "      <td>Yes</td>\n",
              "      <td>3000</td>\n",
              "      <td>0.0</td>\n",
              "      <td>66.0</td>\n",
              "      <td>360.0</td>\n",
              "      <td>1.0</td>\n",
              "      <td>2</td>\n",
              "      <td>1</td>\n",
              "    </tr>\n",
              "    <tr>\n",
              "      <th>3</th>\n",
              "      <td>LP001006</td>\n",
              "      <td>Male</td>\n",
              "      <td>Yes</td>\n",
              "      <td>0</td>\n",
              "      <td>Not Graduate</td>\n",
              "      <td>No</td>\n",
              "      <td>2583</td>\n",
              "      <td>2358.0</td>\n",
              "      <td>120.0</td>\n",
              "      <td>360.0</td>\n",
              "      <td>1.0</td>\n",
              "      <td>2</td>\n",
              "      <td>1</td>\n",
              "    </tr>\n",
              "    <tr>\n",
              "      <th>4</th>\n",
              "      <td>LP001008</td>\n",
              "      <td>Male</td>\n",
              "      <td>No</td>\n",
              "      <td>0</td>\n",
              "      <td>Graduate</td>\n",
              "      <td>No</td>\n",
              "      <td>6000</td>\n",
              "      <td>0.0</td>\n",
              "      <td>141.0</td>\n",
              "      <td>360.0</td>\n",
              "      <td>1.0</td>\n",
              "      <td>2</td>\n",
              "      <td>1</td>\n",
              "    </tr>\n",
              "    <tr>\n",
              "      <th>...</th>\n",
              "      <td>...</td>\n",
              "      <td>...</td>\n",
              "      <td>...</td>\n",
              "      <td>...</td>\n",
              "      <td>...</td>\n",
              "      <td>...</td>\n",
              "      <td>...</td>\n",
              "      <td>...</td>\n",
              "      <td>...</td>\n",
              "      <td>...</td>\n",
              "      <td>...</td>\n",
              "      <td>...</td>\n",
              "      <td>...</td>\n",
              "    </tr>\n",
              "    <tr>\n",
              "      <th>609</th>\n",
              "      <td>LP002978</td>\n",
              "      <td>Female</td>\n",
              "      <td>No</td>\n",
              "      <td>0</td>\n",
              "      <td>Graduate</td>\n",
              "      <td>No</td>\n",
              "      <td>2900</td>\n",
              "      <td>0.0</td>\n",
              "      <td>71.0</td>\n",
              "      <td>360.0</td>\n",
              "      <td>1.0</td>\n",
              "      <td>0</td>\n",
              "      <td>1</td>\n",
              "    </tr>\n",
              "    <tr>\n",
              "      <th>610</th>\n",
              "      <td>LP002979</td>\n",
              "      <td>Male</td>\n",
              "      <td>Yes</td>\n",
              "      <td>3+</td>\n",
              "      <td>Graduate</td>\n",
              "      <td>No</td>\n",
              "      <td>4106</td>\n",
              "      <td>0.0</td>\n",
              "      <td>40.0</td>\n",
              "      <td>180.0</td>\n",
              "      <td>1.0</td>\n",
              "      <td>0</td>\n",
              "      <td>1</td>\n",
              "    </tr>\n",
              "    <tr>\n",
              "      <th>611</th>\n",
              "      <td>LP002983</td>\n",
              "      <td>Male</td>\n",
              "      <td>Yes</td>\n",
              "      <td>1</td>\n",
              "      <td>Graduate</td>\n",
              "      <td>No</td>\n",
              "      <td>8072</td>\n",
              "      <td>240.0</td>\n",
              "      <td>253.0</td>\n",
              "      <td>360.0</td>\n",
              "      <td>1.0</td>\n",
              "      <td>2</td>\n",
              "      <td>1</td>\n",
              "    </tr>\n",
              "    <tr>\n",
              "      <th>612</th>\n",
              "      <td>LP002984</td>\n",
              "      <td>Male</td>\n",
              "      <td>Yes</td>\n",
              "      <td>2</td>\n",
              "      <td>Graduate</td>\n",
              "      <td>No</td>\n",
              "      <td>7583</td>\n",
              "      <td>0.0</td>\n",
              "      <td>187.0</td>\n",
              "      <td>360.0</td>\n",
              "      <td>1.0</td>\n",
              "      <td>2</td>\n",
              "      <td>1</td>\n",
              "    </tr>\n",
              "    <tr>\n",
              "      <th>613</th>\n",
              "      <td>LP002990</td>\n",
              "      <td>Female</td>\n",
              "      <td>No</td>\n",
              "      <td>0</td>\n",
              "      <td>Graduate</td>\n",
              "      <td>Yes</td>\n",
              "      <td>4583</td>\n",
              "      <td>0.0</td>\n",
              "      <td>133.0</td>\n",
              "      <td>360.0</td>\n",
              "      <td>0.0</td>\n",
              "      <td>1</td>\n",
              "      <td>0</td>\n",
              "    </tr>\n",
              "  </tbody>\n",
              "</table>\n",
              "<p>614 rows × 13 columns</p>\n",
              "</div>"
            ],
            "text/plain": [
              "      Loan_ID  Gender Married  ... Credit_History Property_Area Loan_Status\n",
              "0    LP001002    Male      No  ...            1.0             2           1\n",
              "1    LP001003    Male     Yes  ...            1.0             0           0\n",
              "2    LP001005    Male     Yes  ...            1.0             2           1\n",
              "3    LP001006    Male     Yes  ...            1.0             2           1\n",
              "4    LP001008    Male      No  ...            1.0             2           1\n",
              "..        ...     ...     ...  ...            ...           ...         ...\n",
              "609  LP002978  Female      No  ...            1.0             0           1\n",
              "610  LP002979    Male     Yes  ...            1.0             0           1\n",
              "611  LP002983    Male     Yes  ...            1.0             2           1\n",
              "612  LP002984    Male     Yes  ...            1.0             2           1\n",
              "613  LP002990  Female      No  ...            0.0             1           0\n",
              "\n",
              "[614 rows x 13 columns]"
            ]
          },
          "metadata": {
            "tags": []
          },
          "execution_count": 11
        }
      ]
    },
    {
      "cell_type": "code",
      "metadata": {
        "colab": {
          "base_uri": "https://localhost:8080/"
        },
        "id": "ZdBZ_0n8vB1R",
        "outputId": "b9fb7b8c-3534-4e38-c712-55c2e5c4f8c3"
      },
      "source": [
        "newdf.isnull().sum()"
      ],
      "execution_count": null,
      "outputs": [
        {
          "output_type": "execute_result",
          "data": {
            "text/plain": [
              "Loan_ID               0\n",
              "Gender               13\n",
              "Married               3\n",
              "Dependents           15\n",
              "Education             0\n",
              "Self_Employed        32\n",
              "ApplicantIncome       0\n",
              "CoapplicantIncome     0\n",
              "LoanAmount            0\n",
              "Loan_Amount_Term      0\n",
              "Credit_History        0\n",
              "Property_Area         0\n",
              "Loan_Status           0\n",
              "dtype: int64"
            ]
          },
          "metadata": {
            "tags": []
          },
          "execution_count": 12
        }
      ]
    },
    {
      "cell_type": "code",
      "metadata": {
        "colab": {
          "base_uri": "https://localhost:8080/",
          "height": 400
        },
        "id": "6hmiDe7vvG26",
        "outputId": "0940af04-df75-41f7-d4af-2e0364a90f77"
      },
      "source": [
        "sns.relplot(x='ApplicantIncome',y='LoanAmount',hue=\"Credit_History\",data=newdf)"
      ],
      "execution_count": null,
      "outputs": [
        {
          "output_type": "execute_result",
          "data": {
            "text/plain": [
              "<seaborn.axisgrid.FacetGrid at 0x7f9b19987050>"
            ]
          },
          "metadata": {
            "tags": []
          },
          "execution_count": 15
        },
        {
          "output_type": "display_data",
          "data": {
            "image/png": "[encoded data removed]",
            "text/plain": [
              "<Figure size 438.5x360 with 1 Axes>"
            ]
          },
          "metadata": {
            "tags": [],
            "needs_background": "light"
          }
        }
      ]
    },
    {
      "cell_type": "code",
      "metadata": {
        "colab": {
          "base_uri": "https://localhost:8080/"
        },
        "id": "dLoZ9KMSvJm_",
        "outputId": "2a7d19e0-50de-463a-b981-a3814b35578c"
      },
      "source": [
        "x=newdf.drop(['Loan_ID','Gender','Married','Dependents','Education','Self_Employed','Loan_Status'],axis='columns')\n",
        "print(x)"
      ],
      "execution_count": null,
      "outputs": [
        {
          "output_type": "stream",
          "text": [
            "     ApplicantIncome  CoapplicantIncome  ...  Credit_History  Property_Area\n",
            "0               5849                0.0  ...             1.0              2\n",
            "1               4583             1508.0  ...             1.0              0\n",
            "2               3000                0.0  ...             1.0              2\n",
            "3               2583             2358.0  ...             1.0              2\n",
            "4               6000                0.0  ...             1.0              2\n",
            "..               ...                ...  ...             ...            ...\n",
            "609             2900                0.0  ...             1.0              0\n",
            "610             4106                0.0  ...             1.0              0\n",
            "611             8072              240.0  ...             1.0              2\n",
            "612             7583                0.0  ...             1.0              2\n",
            "613             4583                0.0  ...             0.0              1\n",
            "\n",
            "[614 rows x 6 columns]\n"
          ],
          "name": "stdout"
        }
      ]
    },
    {
      "cell_type": "code",
      "metadata": {
        "colab": {
          "base_uri": "https://localhost:8080/"
        },
        "id": "w442PwChvl63",
        "outputId": "b7e84549-b5cc-4854-c7e4-ef6a74ddf15d"
      },
      "source": [
        "y=newdf['Loan_Status']\n",
        "print(y)"
      ],
      "execution_count": null,
      "outputs": [
        {
          "output_type": "stream",
          "text": [
            "0      1\n",
            "1      0\n",
            "2      1\n",
            "3      1\n",
            "4      1\n",
            "      ..\n",
            "609    1\n",
            "610    1\n",
            "611    1\n",
            "612    1\n",
            "613    0\n",
            "Name: Loan_Status, Length: 614, dtype: int64\n"
          ],
          "name": "stdout"
        }
      ]
    },
    {
      "cell_type": "code",
      "metadata": {
        "colab": {
          "base_uri": "https://localhost:8080/"
        },
        "id": "Y7JG_55xvodw",
        "outputId": "89c5b7c3-6d66-4e0f-a7f2-b0d9aaee7526"
      },
      "source": [
        "from sklearn.model_selection import train_test_split\n",
        "x_train,x_test,y_train,y_test=train_test_split(x,y,test_size=0.3,random_state=1)\n",
        "\n",
        "print(len(x_train))\n",
        "print(len(x_test))"
      ],
      "execution_count": null,
      "outputs": [
        {
          "output_type": "stream",
          "text": [
            "429\n",
            "185\n"
          ],
          "name": "stdout"
        }
      ]
    },
    {
      "cell_type": "code",
      "metadata": {
        "colab": {
          "base_uri": "https://localhost:8080/"
        },
        "id": "8WKiIreZvr3Q",
        "outputId": "d505b07d-706c-4688-da6a-5dd82cd14891"
      },
      "source": [
        "from sklearn.tree import DecisionTreeClassifier\n",
        "\n",
        "clf=DecisionTreeClassifier(random_state=5)\n",
        "clf.fit(x_train,y_train)"
      ],
      "execution_count": null,
      "outputs": [
        {
          "output_type": "execute_result",
          "data": {
            "text/plain": [
              "DecisionTreeClassifier(ccp_alpha=0.0, class_weight=None, criterion='gini',\n",
              "                       max_depth=None, max_features=None, max_leaf_nodes=None,\n",
              "                       min_impurity_decrease=0.0, min_impurity_split=None,\n",
              "                       min_samples_leaf=1, min_samples_split=2,\n",
              "                       min_weight_fraction_leaf=0.0, presort='deprecated',\n",
              "                       random_state=5, splitter='best')"
            ]
          },
          "metadata": {
            "tags": []
          },
          "execution_count": 19
        }
      ]
    },
    {
      "cell_type": "code",
      "metadata": {
        "colab": {
          "base_uri": "https://localhost:8080/"
        },
        "id": "I1FvtoNOv9pb",
        "outputId": "8e7d6e9b-0fca-4d58-e46e-0252ec020477"
      },
      "source": [
        "y_pred=clf.predict(x_test)\n",
        "y_pred"
      ],
      "execution_count": null,
      "outputs": [
        {
          "output_type": "execute_result",
          "data": {
            "text/plain": [
              "array([1, 1, 1, 1, 1, 0, 1, 0, 1, 0, 1, 1, 1, 1, 1, 0, 1, 0, 1, 0, 1, 1,\n",
              "       1, 1, 1, 1, 1, 0, 1, 1, 0, 1, 0, 0, 1, 1, 1, 1, 1, 0, 0, 1, 0, 0,\n",
              "       1, 1, 1, 0, 1, 1, 1, 1, 1, 0, 1, 0, 1, 0, 0, 0, 1, 1, 1, 0, 0, 1,\n",
              "       1, 0, 0, 1, 1, 1, 0, 0, 1, 1, 1, 1, 0, 0, 0, 1, 0, 0, 0, 1, 1, 1,\n",
              "       1, 1, 0, 1, 1, 1, 1, 1, 1, 0, 1, 1, 0, 1, 1, 1, 0, 1, 1, 1, 0, 1,\n",
              "       1, 1, 1, 1, 0, 0, 1, 0, 1, 1, 1, 0, 1, 0, 1, 0, 0, 0, 1, 1, 1, 0,\n",
              "       1, 1, 1, 1, 1, 0, 1, 1, 1, 1, 1, 1, 0, 1, 1, 1, 0, 1, 1, 1, 1, 1,\n",
              "       1, 1, 1, 1, 1, 0, 1, 0, 1, 1, 0, 0, 1, 1, 1, 1, 0, 1, 1, 0, 1, 1,\n",
              "       0, 0, 1, 0, 1, 1, 0, 1, 1])"
            ]
          },
          "metadata": {
            "tags": []
          },
          "execution_count": 20
        }
      ]
    },
    {
      "cell_type": "code",
      "metadata": {
        "colab": {
          "base_uri": "https://localhost:8080/"
        },
        "id": "7yvQvrqhwAm4",
        "outputId": "f3c6574f-6ea3-4f52-d373-a0cd1e3f236a"
      },
      "source": [
        "from sklearn.metrics import accuracy_score\n",
        "\n",
        "Accuracy=accuracy_score(y_test,y_pred)\n",
        "print(\"Accuracy is\",Accuracy*100,'%')"
      ],
      "execution_count": null,
      "outputs": [
        {
          "output_type": "stream",
          "text": [
            "Accuracy is 72.97297297297297 %\n"
          ],
          "name": "stdout"
        }
      ]
    },
    {
      "cell_type": "code",
      "metadata": {
        "colab": {
          "base_uri": "https://localhost:8080/"
        },
        "id": "W2noKPQKwEOw",
        "outputId": "18370a1c-87a6-43f7-be26-cdfcd0a6619e"
      },
      "source": [
        "from sklearn.metrics import confusion_matrix\n",
        "\n",
        "cm=np.array(confusion_matrix(y_test,y_pred))\n",
        "cm"
      ],
      "execution_count": null,
      "outputs": [
        {
          "output_type": "execute_result",
          "data": {
            "text/plain": [
              "array([[ 35,  26],\n",
              "       [ 24, 100]])"
            ]
          },
          "metadata": {
            "tags": []
          },
          "execution_count": 22
        }
      ]
    },
    {
      "cell_type": "code",
      "metadata": {
        "colab": {
          "base_uri": "https://localhost:8080/",
          "height": 1000
        },
        "id": "vMf52LW-wI5H",
        "outputId": "2022c670-4e13-44d3-810a-2892aeb001fb"
      },
      "source": [
        "from sklearn import tree\n",
        "\n",
        "tree.plot_tree(clf)"
      ],
      "execution_count": null,
      "outputs": [
        {
          "output_type": "execute_result",
          "data": {
            "text/plain": [
              "[Text(129.24264705882354, 211.7178947368421, 'X[4] <= 0.5\\ngini = 0.424\\nsamples = 429\\nvalue = [131, 298]'),\n",
              " Text(19.694117647058825, 200.2736842105263, 'X[2] <= 547.5\\ngini = 0.146\\nsamples = 63\\nvalue = [58, 5]'),\n",
              " Text(15.75529411764706, 188.82947368421054, 'X[1] <= 6981.5\\ngini = 0.121\\nsamples = 62\\nvalue = [58, 4]'),\n",
              " Text(7.87764705882353, 177.38526315789474, 'X[2] <= 129.0\\ngini = 0.095\\nsamples = 60\\nvalue = [57, 3]'),\n",
              " Text(3.938823529411765, 165.94105263157894, 'gini = 0.0\\nsamples = 37\\nvalue = [37, 0]'),\n",
              " Text(11.816470588235294, 165.94105263157894, 'X[2] <= 131.5\\ngini = 0.227\\nsamples = 23\\nvalue = [20, 3]'),\n",
              " Text(7.87764705882353, 154.49684210526317, 'gini = 0.0\\nsamples = 1\\nvalue = [0, 1]'),\n",
              " Text(15.75529411764706, 154.49684210526317, 'X[2] <= 163.0\\ngini = 0.165\\nsamples = 22\\nvalue = [20, 2]'),\n",
              " Text(11.816470588235294, 143.05263157894737, 'X[2] <= 159.0\\ngini = 0.32\\nsamples = 10\\nvalue = [8, 2]'),\n",
              " Text(7.87764705882353, 131.60842105263157, 'gini = 0.0\\nsamples = 7\\nvalue = [7, 0]'),\n",
              " Text(15.75529411764706, 131.60842105263157, 'X[1] <= 2830.5\\ngini = 0.444\\nsamples = 3\\nvalue = [1, 2]'),\n",
              " Text(11.816470588235294, 120.16421052631578, 'gini = 0.0\\nsamples = 2\\nvalue = [0, 2]'),\n",
              " Text(19.694117647058825, 120.16421052631578, 'gini = 0.0\\nsamples = 1\\nvalue = [1, 0]'),\n",
              " Text(19.694117647058825, 143.05263157894737, 'gini = 0.0\\nsamples = 12\\nvalue = [12, 0]'),\n",
              " Text(23.632941176470588, 177.38526315789474, 'X[2] <= 316.0\\ngini = 0.5\\nsamples = 2\\nvalue = [1, 1]'),\n",
              " Text(19.694117647058825, 165.94105263157894, 'gini = 0.0\\nsamples = 1\\nvalue = [0, 1]'),\n",
              " Text(27.571764705882355, 165.94105263157894, 'gini = 0.0\\nsamples = 1\\nvalue = [1, 0]'),\n",
              " Text(23.632941176470588, 188.82947368421054, 'gini = 0.0\\nsamples = 1\\nvalue = [0, 1]'),\n",
              " Text(238.79117647058825, 200.2736842105263, 'X[1] <= 14166.5\\ngini = 0.319\\nsamples = 366\\nvalue = [73, 293]'),\n",
              " Text(234.8523529411765, 188.82947368421054, 'X[3] <= 420.0\\ngini = 0.314\\nsamples = 364\\nvalue = [71, 293]'),\n",
              " Text(146.72117647058823, 177.38526315789474, 'X[5] <= 0.5\\ngini = 0.303\\nsamples = 355\\nvalue = [66, 289]'),\n",
              " Text(51.82014705882353, 165.94105263157894, 'X[2] <= 85.5\\ngini = 0.382\\nsamples = 113\\nvalue = [29, 84]'),\n",
              " Text(31.51058823529412, 154.49684210526317, 'X[2] <= 58.5\\ngini = 0.48\\nsamples = 10\\nvalue = [6, 4]'),\n",
              " Text(27.571764705882355, 143.05263157894737, 'X[1] <= 688.0\\ngini = 0.32\\nsamples = 5\\nvalue = [1, 4]'),\n",
              " Text(23.632941176470588, 131.60842105263157, 'gini = 0.0\\nsamples = 4\\nvalue = [0, 4]'),\n",
              " Text(31.51058823529412, 131.60842105263157, 'gini = 0.0\\nsamples = 1\\nvalue = [1, 0]'),\n",
              " Text(35.449411764705886, 143.05263157894737, 'gini = 0.0\\nsamples = 5\\nvalue = [5, 0]'),\n",
              " Text(72.12970588235294, 154.49684210526317, 'X[2] <= 127.0\\ngini = 0.347\\nsamples = 103\\nvalue = [23, 80]'),\n",
              " Text(43.32705882352941, 143.05263157894737, 'X[1] <= 8.06\\ngini = 0.188\\nsamples = 38\\nvalue = [4, 34]'),\n",
              " Text(39.38823529411765, 131.60842105263157, 'X[2] <= 108.0\\ngini = 0.391\\nsamples = 15\\nvalue = [4, 11]'),\n",
              " Text(31.51058823529412, 120.16421052631578, 'X[2] <= 94.0\\ngini = 0.444\\nsamples = 3\\nvalue = [2, 1]'),\n",
              " Text(27.571764705882355, 108.72, 'gini = 0.0\\nsamples = 1\\nvalue = [0, 1]'),\n",
              " Text(35.449411764705886, 108.72, 'gini = 0.0\\nsamples = 2\\nvalue = [2, 0]'),\n",
              " Text(47.265882352941176, 120.16421052631578, 'X[0] <= 2688.0\\ngini = 0.278\\nsamples = 12\\nvalue = [2, 10]'),\n",
              " Text(43.32705882352941, 108.72, 'gini = 0.0\\nsamples = 1\\nvalue = [1, 0]'),\n",
              " Text(51.20470588235294, 108.72, 'X[0] <= 4525.0\\ngini = 0.165\\nsamples = 11\\nvalue = [1, 10]'),\n",
              " Text(47.265882352941176, 97.27578947368421, 'gini = 0.0\\nsamples = 7\\nvalue = [0, 7]'),\n",
              " Text(55.14352941176471, 97.27578947368421, 'X[0] <= 4617.5\\ngini = 0.375\\nsamples = 4\\nvalue = [1, 3]'),\n",
              " Text(51.20470588235294, 85.83157894736843, 'gini = 0.0\\nsamples = 1\\nvalue = [1, 0]'),\n",
              " Text(59.082352941176474, 85.83157894736843, 'gini = 0.0\\nsamples = 3\\nvalue = [0, 3]'),\n",
              " Text(47.265882352941176, 131.60842105263157, 'gini = 0.0\\nsamples = 23\\nvalue = [0, 23]'),\n",
              " Text(100.93235294117648, 143.05263157894737, 'X[1] <= 1420.5\\ngini = 0.414\\nsamples = 65\\nvalue = [19, 46]'),\n",
              " Text(73.8529411764706, 131.60842105263157, 'X[2] <= 135.5\\ngini = 0.278\\nsamples = 30\\nvalue = [5, 25]'),\n",
              " Text(63.02117647058824, 120.16421052631578, 'X[2] <= 132.5\\ngini = 0.48\\nsamples = 5\\nvalue = [2, 3]'),\n",
              " Text(59.082352941176474, 108.72, 'gini = 0.0\\nsamples = 3\\nvalue = [0, 3]'),\n",
              " Text(66.96000000000001, 108.72, 'gini = 0.0\\nsamples = 2\\nvalue = [2, 0]'),\n",
              " Text(84.68470588235294, 120.16421052631578, 'X[0] <= 3618.5\\ngini = 0.211\\nsamples = 25\\nvalue = [3, 22]'),\n",
              " Text(74.83764705882353, 108.72, 'X[2] <= 212.5\\ngini = 0.5\\nsamples = 2\\nvalue = [1, 1]'),\n",
              " Text(70.89882352941177, 97.27578947368421, 'gini = 0.0\\nsamples = 1\\nvalue = [1, 0]'),\n",
              " Text(78.7764705882353, 97.27578947368421, 'gini = 0.0\\nsamples = 1\\nvalue = [0, 1]'),\n",
              " Text(94.53176470588235, 108.72, 'X[1] <= 844.0\\ngini = 0.159\\nsamples = 23\\nvalue = [2, 21]'),\n",
              " Text(86.65411764705883, 97.27578947368421, 'X[0] <= 9981.5\\ngini = 0.1\\nsamples = 19\\nvalue = [1, 18]'),\n",
              " Text(82.71529411764706, 85.83157894736843, 'gini = 0.0\\nsamples = 14\\nvalue = [0, 14]'),\n",
              " Text(90.59294117647059, 85.83157894736843, 'X[2] <= 170.0\\ngini = 0.32\\nsamples = 5\\nvalue = [1, 4]'),\n",
              " Text(86.65411764705883, 74.38736842105263, 'gini = 0.0\\nsamples = 1\\nvalue = [1, 0]'),\n",
              " Text(94.53176470588235, 74.38736842105263, 'gini = 0.0\\nsamples = 4\\nvalue = [0, 4]'),\n",
              " Text(102.40941176470588, 97.27578947368421, 'X[2] <= 178.5\\ngini = 0.375\\nsamples = 4\\nvalue = [1, 3]'),\n",
              " Text(98.47058823529412, 85.83157894736843, 'gini = 0.0\\nsamples = 3\\nvalue = [0, 3]'),\n",
              " Text(106.34823529411766, 85.83157894736843, 'gini = 0.0\\nsamples = 1\\nvalue = [1, 0]'),\n",
              " Text(128.01176470588237, 131.60842105263157, 'X[1] <= 2279.0\\ngini = 0.48\\nsamples = 35\\nvalue = [14, 21]'),\n",
              " Text(110.28705882352942, 120.16421052631578, 'X[2] <= 140.0\\ngini = 0.397\\nsamples = 11\\nvalue = [8, 3]'),\n",
              " Text(106.34823529411766, 108.72, 'gini = 0.0\\nsamples = 3\\nvalue = [3, 0]'),\n",
              " Text(114.22588235294118, 108.72, 'X[2] <= 158.5\\ngini = 0.469\\nsamples = 8\\nvalue = [5, 3]'),\n",
              " Text(110.28705882352942, 97.27578947368421, 'gini = 0.0\\nsamples = 2\\nvalue = [0, 2]'),\n",
              " Text(118.16470588235295, 97.27578947368421, 'X[0] <= 5745.5\\ngini = 0.278\\nsamples = 6\\nvalue = [5, 1]'),\n",
              " Text(114.22588235294118, 85.83157894736843, 'gini = 0.0\\nsamples = 4\\nvalue = [4, 0]'),\n",
              " Text(122.10352941176471, 85.83157894736843, 'X[0] <= 10303.0\\ngini = 0.5\\nsamples = 2\\nvalue = [1, 1]'),\n",
              " Text(118.16470588235295, 74.38736842105263, 'gini = 0.0\\nsamples = 1\\nvalue = [0, 1]'),\n",
              " Text(126.04235294117647, 74.38736842105263, 'gini = 0.0\\nsamples = 1\\nvalue = [1, 0]'),\n",
              " Text(145.7364705882353, 120.16421052631578, 'X[0] <= 3863.0\\ngini = 0.375\\nsamples = 24\\nvalue = [6, 18]'),\n",
              " Text(141.79764705882354, 108.72, 'gini = 0.0\\nsamples = 11\\nvalue = [0, 11]'),\n",
              " Text(149.67529411764707, 108.72, 'X[0] <= 6706.5\\ngini = 0.497\\nsamples = 13\\nvalue = [6, 7]'),\n",
              " Text(141.79764705882354, 97.27578947368421, 'X[0] <= 4189.0\\ngini = 0.32\\nsamples = 5\\nvalue = [4, 1]'),\n",
              " Text(137.85882352941178, 85.83157894736843, 'X[2] <= 144.5\\ngini = 0.5\\nsamples = 2\\nvalue = [1, 1]'),\n",
              " Text(133.92000000000002, 74.38736842105263, 'gini = 0.0\\nsamples = 1\\nvalue = [1, 0]'),\n",
              " Text(141.79764705882354, 74.38736842105263, 'gini = 0.0\\nsamples = 1\\nvalue = [0, 1]'),\n",
              " Text(145.7364705882353, 85.83157894736843, 'gini = 0.0\\nsamples = 3\\nvalue = [3, 0]'),\n",
              " Text(157.5529411764706, 97.27578947368421, 'X[0] <= 14526.5\\ngini = 0.375\\nsamples = 8\\nvalue = [2, 6]'),\n",
              " Text(153.61411764705883, 85.83157894736843, 'X[1] <= 4581.5\\ngini = 0.245\\nsamples = 7\\nvalue = [1, 6]'),\n",
              " Text(149.67529411764707, 74.38736842105263, 'X[0] <= 8541.5\\ngini = 0.444\\nsamples = 3\\nvalue = [1, 2]'),\n",
              " Text(145.7364705882353, 62.943157894736856, 'gini = 0.0\\nsamples = 2\\nvalue = [0, 2]'),\n",
              " Text(153.61411764705883, 62.943157894736856, 'gini = 0.0\\nsamples = 1\\nvalue = [1, 0]'),\n",
              " Text(157.5529411764706, 74.38736842105263, 'gini = 0.0\\nsamples = 4\\nvalue = [0, 4]'),\n",
              " Text(161.49176470588236, 85.83157894736843, 'gini = 0.0\\nsamples = 1\\nvalue = [1, 0]'),\n",
              " Text(241.62220588235294, 165.94105263157894, 'X[1] <= 745.0\\ngini = 0.259\\nsamples = 242\\nvalue = [37, 205]'),\n",
              " Text(188.81735294117647, 154.49684210526317, 'X[0] <= 2457.0\\ngini = 0.328\\nsamples = 126\\nvalue = [26, 100]'),\n",
              " Text(172.32352941176472, 143.05263157894737, 'X[5] <= 1.5\\ngini = 0.444\\nsamples = 6\\nvalue = [4, 2]'),\n",
              " Text(168.38470588235296, 131.60842105263157, 'gini = 0.0\\nsamples = 2\\nvalue = [0, 2]'),\n",
              " Text(176.2623529411765, 131.60842105263157, 'gini = 0.0\\nsamples = 4\\nvalue = [4, 0]'),\n",
              " Text(205.31117647058824, 143.05263157894737, 'X[2] <= 137.0\\ngini = 0.299\\nsamples = 120\\nvalue = [22, 98]'),\n",
              " Text(184.14000000000001, 131.60842105263157, 'X[3] <= 60.0\\ngini = 0.212\\nsamples = 83\\nvalue = [10, 73]'),\n",
              " Text(180.20117647058825, 120.16421052631578, 'gini = 0.0\\nsamples = 1\\nvalue = [1, 0]'),\n",
              " Text(188.07882352941178, 120.16421052631578, 'X[1] <= 718.0\\ngini = 0.195\\nsamples = 82\\nvalue = [9, 73]'),\n",
              " Text(184.14000000000001, 108.72, 'X[0] <= 3866.5\\ngini = 0.178\\nsamples = 81\\nvalue = [8, 73]'),\n",
              " Text(173.30823529411765, 97.27578947368421, 'X[2] <= 124.5\\ngini = 0.054\\nsamples = 36\\nvalue = [1, 35]'),\n",
              " Text(169.3694117647059, 85.83157894736843, 'gini = 0.0\\nsamples = 34\\nvalue = [0, 34]'),\n",
              " Text(177.24705882352941, 85.83157894736843, 'X[0] <= 3347.0\\ngini = 0.5\\nsamples = 2\\nvalue = [1, 1]'),\n",
              " Text(173.30823529411765, 74.38736842105263, 'gini = 0.0\\nsamples = 1\\nvalue = [0, 1]'),\n",
              " Text(181.18588235294118, 74.38736842105263, 'gini = 0.0\\nsamples = 1\\nvalue = [1, 0]'),\n",
              " Text(194.97176470588235, 97.27578947368421, 'X[0] <= 3887.5\\ngini = 0.263\\nsamples = 45\\nvalue = [7, 38]'),\n",
              " Text(191.0329411764706, 85.83157894736843, 'gini = 0.0\\nsamples = 1\\nvalue = [1, 0]'),\n",
              " Text(198.9105882352941, 85.83157894736843, 'X[0] <= 4736.5\\ngini = 0.236\\nsamples = 44\\nvalue = [6, 38]'),\n",
              " Text(189.0635294117647, 74.38736842105263, 'X[0] <= 4709.0\\ngini = 0.363\\nsamples = 21\\nvalue = [5, 16]'),\n",
              " Text(185.12470588235294, 62.943157894736856, 'X[5] <= 1.5\\ngini = 0.32\\nsamples = 20\\nvalue = [4, 16]'),\n",
              " Text(177.24705882352941, 51.49894736842106, 'X[2] <= 113.5\\ngini = 0.142\\nsamples = 13\\nvalue = [1, 12]'),\n",
              " Text(173.30823529411765, 40.05473684210526, 'X[2] <= 101.0\\ngini = 0.32\\nsamples = 5\\nvalue = [1, 4]'),\n",
              " Text(169.3694117647059, 28.610526315789485, 'gini = 0.0\\nsamples = 4\\nvalue = [0, 4]'),\n",
              " Text(177.24705882352941, 28.610526315789485, 'gini = 0.0\\nsamples = 1\\nvalue = [1, 0]'),\n",
              " Text(181.18588235294118, 40.05473684210526, 'gini = 0.0\\nsamples = 8\\nvalue = [0, 8]'),\n",
              " Text(193.00235294117647, 51.49894736842106, 'X[2] <= 98.0\\ngini = 0.49\\nsamples = 7\\nvalue = [3, 4]'),\n",
              " Text(189.0635294117647, 40.05473684210526, 'gini = 0.0\\nsamples = 2\\nvalue = [0, 2]'),\n",
              " Text(196.94117647058823, 40.05473684210526, 'X[2] <= 109.0\\ngini = 0.48\\nsamples = 5\\nvalue = [3, 2]'),\n",
              " Text(193.00235294117647, 28.610526315789485, 'gini = 0.0\\nsamples = 2\\nvalue = [2, 0]'),\n",
              " Text(200.88, 28.610526315789485, 'X[2] <= 126.0\\ngini = 0.444\\nsamples = 3\\nvalue = [1, 2]'),\n",
              " Text(196.94117647058823, 17.166315789473686, 'gini = 0.0\\nsamples = 1\\nvalue = [0, 1]'),\n",
              " Text(204.81882352941176, 17.166315789473686, 'X[2] <= 134.5\\ngini = 0.5\\nsamples = 2\\nvalue = [1, 1]'),\n",
              " Text(200.88, 5.722105263157886, 'gini = 0.0\\nsamples = 1\\nvalue = [1, 0]'),\n",
              " Text(208.75764705882352, 5.722105263157886, 'gini = 0.0\\nsamples = 1\\nvalue = [0, 1]'),\n",
              " Text(193.00235294117647, 62.943157894736856, 'gini = 0.0\\nsamples = 1\\nvalue = [1, 0]'),\n",
              " Text(208.75764705882352, 74.38736842105263, 'X[2] <= 83.5\\ngini = 0.083\\nsamples = 23\\nvalue = [1, 22]'),\n",
              " Text(204.81882352941176, 62.943157894736856, 'X[2] <= 79.0\\ngini = 0.278\\nsamples = 6\\nvalue = [1, 5]'),\n",
              " Text(200.88, 51.49894736842106, 'gini = 0.0\\nsamples = 5\\nvalue = [0, 5]'),\n",
              " Text(208.75764705882352, 51.49894736842106, 'gini = 0.0\\nsamples = 1\\nvalue = [1, 0]'),\n",
              " Text(212.69647058823531, 62.943157894736856, 'gini = 0.0\\nsamples = 17\\nvalue = [0, 17]'),\n",
              " Text(192.01764705882354, 108.72, 'gini = 0.0\\nsamples = 1\\nvalue = [1, 0]'),\n",
              " Text(226.4823529411765, 131.60842105263157, 'X[0] <= 4960.0\\ngini = 0.438\\nsamples = 37\\nvalue = [12, 25]'),\n",
              " Text(222.54352941176472, 120.16421052631578, 'gini = 0.0\\nsamples = 3\\nvalue = [3, 0]'),\n",
              " Text(230.42117647058825, 120.16421052631578, 'X[2] <= 166.0\\ngini = 0.389\\nsamples = 34\\nvalue = [9, 25]'),\n",
              " Text(220.57411764705884, 108.72, 'X[2] <= 157.5\\ngini = 0.5\\nsamples = 6\\nvalue = [3, 3]'),\n",
              " Text(216.63529411764708, 97.27578947368421, 'gini = 0.0\\nsamples = 2\\nvalue = [0, 2]'),\n",
              " Text(224.5129411764706, 97.27578947368421, 'X[0] <= 7295.0\\ngini = 0.375\\nsamples = 4\\nvalue = [3, 1]'),\n",
              " Text(220.57411764705884, 85.83157894736843, 'X[0] <= 6144.5\\ngini = 0.5\\nsamples = 2\\nvalue = [1, 1]'),\n",
              " Text(216.63529411764708, 74.38736842105263, 'gini = 0.0\\nsamples = 1\\nvalue = [1, 0]'),\n",
              " Text(224.5129411764706, 74.38736842105263, 'gini = 0.0\\nsamples = 1\\nvalue = [0, 1]'),\n",
              " Text(228.45176470588237, 85.83157894736843, 'gini = 0.0\\nsamples = 2\\nvalue = [2, 0]'),\n",
              " Text(240.26823529411766, 108.72, 'X[2] <= 202.5\\ngini = 0.337\\nsamples = 28\\nvalue = [6, 22]'),\n",
              " Text(236.3294117647059, 97.27578947368421, 'gini = 0.0\\nsamples = 9\\nvalue = [0, 9]'),\n",
              " Text(244.20705882352942, 97.27578947368421, 'X[2] <= 277.5\\ngini = 0.432\\nsamples = 19\\nvalue = [6, 13]'),\n",
              " Text(236.3294117647059, 85.83157894736843, 'X[0] <= 6270.0\\ngini = 0.5\\nsamples = 10\\nvalue = [5, 5]'),\n",
              " Text(232.39058823529413, 74.38736842105263, 'gini = 0.0\\nsamples = 1\\nvalue = [1, 0]'),\n",
              " Text(240.26823529411766, 74.38736842105263, 'X[0] <= 7860.0\\ngini = 0.494\\nsamples = 9\\nvalue = [4, 5]'),\n",
              " Text(236.3294117647059, 62.943157894736856, 'gini = 0.0\\nsamples = 2\\nvalue = [0, 2]'),\n",
              " Text(244.20705882352942, 62.943157894736856, 'X[0] <= 13060.0\\ngini = 0.49\\nsamples = 7\\nvalue = [4, 3]'),\n",
              " Text(236.3294117647059, 51.49894736842106, 'X[5] <= 1.5\\ngini = 0.375\\nsamples = 4\\nvalue = [3, 1]'),\n",
              " Text(232.39058823529413, 40.05473684210526, 'X[2] <= 221.0\\ngini = 0.5\\nsamples = 2\\nvalue = [1, 1]'),\n",
              " Text(228.45176470588237, 28.610526315789485, 'gini = 0.0\\nsamples = 1\\nvalue = [1, 0]'),\n",
              " Text(236.3294117647059, 28.610526315789485, 'gini = 0.0\\nsamples = 1\\nvalue = [0, 1]'),\n",
              " Text(240.26823529411766, 40.05473684210526, 'gini = 0.0\\nsamples = 2\\nvalue = [2, 0]'),\n",
              " Text(252.08470588235295, 51.49894736842106, 'X[0] <= 25256.0\\ngini = 0.444\\nsamples = 3\\nvalue = [1, 2]'),\n",
              " Text(248.1458823529412, 40.05473684210526, 'gini = 0.0\\nsamples = 2\\nvalue = [0, 2]'),\n",
              " Text(256.02352941176474, 40.05473684210526, 'gini = 0.0\\nsamples = 1\\nvalue = [1, 0]'),\n",
              " Text(252.08470588235295, 85.83157894736843, 'X[2] <= 498.0\\ngini = 0.198\\nsamples = 9\\nvalue = [1, 8]'),\n",
              " Text(248.1458823529412, 74.38736842105263, 'gini = 0.0\\nsamples = 6\\nvalue = [0, 6]'),\n",
              " Text(256.02352941176474, 74.38736842105263, 'X[0] <= 18908.5\\ngini = 0.444\\nsamples = 3\\nvalue = [1, 2]'),\n",
              " Text(252.08470588235295, 62.943157894736856, 'gini = 0.0\\nsamples = 1\\nvalue = [1, 0]'),\n",
              " Text(259.9623529411765, 62.943157894736856, 'gini = 0.0\\nsamples = 2\\nvalue = [0, 2]'),\n",
              " Text(294.4270588235294, 154.49684210526317, 'X[1] <= 2921.0\\ngini = 0.172\\nsamples = 116\\nvalue = [11, 105]'),\n",
              " Text(283.5952941176471, 143.05263157894737, 'X[2] <= 257.5\\ngini = 0.112\\nsamples = 84\\nvalue = [5, 79]'),\n",
              " Text(279.6564705882353, 131.60842105263157, 'X[2] <= 110.5\\ngini = 0.092\\nsamples = 83\\nvalue = [4, 79]'),\n",
              " Text(275.71764705882356, 120.16421052631578, 'X[0] <= 4279.5\\ngini = 0.208\\nsamples = 34\\nvalue = [4, 30]'),\n",
              " Text(267.84000000000003, 108.72, 'X[0] <= 2550.0\\ngini = 0.121\\nsamples = 31\\nvalue = [2, 29]'),\n",
              " Text(263.90117647058827, 97.27578947368421, 'gini = 0.0\\nsamples = 19\\nvalue = [0, 19]'),\n",
              " Text(271.7788235294118, 97.27578947368421, 'X[0] <= 2633.5\\ngini = 0.278\\nsamples = 12\\nvalue = [2, 10]'),\n",
              " Text(267.84000000000003, 85.83157894736843, 'gini = 0.0\\nsamples = 1\\nvalue = [1, 0]'),\n",
              " Text(275.71764705882356, 85.83157894736843, 'X[0] <= 2990.0\\ngini = 0.165\\nsamples = 11\\nvalue = [1, 10]'),\n",
              " Text(271.7788235294118, 74.38736842105263, 'X[2] <= 98.5\\ngini = 0.32\\nsamples = 5\\nvalue = [1, 4]'),\n",
              " Text(267.84000000000003, 62.943157894736856, 'gini = 0.0\\nsamples = 4\\nvalue = [0, 4]'),\n",
              " Text(275.71764705882356, 62.943157894736856, 'gini = 0.0\\nsamples = 1\\nvalue = [1, 0]'),\n",
              " Text(279.6564705882353, 74.38736842105263, 'gini = 0.0\\nsamples = 6\\nvalue = [0, 6]'),\n",
              " Text(283.5952941176471, 108.72, 'X[0] <= 10673.5\\ngini = 0.444\\nsamples = 3\\nvalue = [2, 1]'),\n",
              " Text(279.6564705882353, 97.27578947368421, 'gini = 0.0\\nsamples = 2\\nvalue = [2, 0]'),\n",
              " Text(287.53411764705885, 97.27578947368421, 'gini = 0.0\\nsamples = 1\\nvalue = [0, 1]'),\n",
              " Text(283.5952941176471, 120.16421052631578, 'gini = 0.0\\nsamples = 49\\nvalue = [0, 49]'),\n",
              " Text(287.53411764705885, 131.60842105263157, 'gini = 0.0\\nsamples = 1\\nvalue = [1, 0]'),\n",
              " Text(305.25882352941176, 143.05263157894737, 'X[1] <= 3027.5\\ngini = 0.305\\nsamples = 32\\nvalue = [6, 26]'),\n",
              " Text(295.4117647058824, 131.60842105263157, 'X[2] <= 169.5\\ngini = 0.375\\nsamples = 4\\nvalue = [3, 1]'),\n",
              " Text(291.4729411764706, 120.16421052631578, 'gini = 0.0\\nsamples = 3\\nvalue = [3, 0]'),\n",
              " Text(299.35058823529414, 120.16421052631578, 'gini = 0.0\\nsamples = 1\\nvalue = [0, 1]'),\n",
              " Text(315.1058823529412, 131.60842105263157, 'X[3] <= 240.0\\ngini = 0.191\\nsamples = 28\\nvalue = [3, 25]'),\n",
              " Text(307.22823529411767, 120.16421052631578, 'X[2] <= 126.5\\ngini = 0.444\\nsamples = 6\\nvalue = [2, 4]'),\n",
              " Text(303.2894117647059, 108.72, 'X[2] <= 63.0\\ngini = 0.444\\nsamples = 3\\nvalue = [2, 1]'),\n",
              " Text(299.35058823529414, 97.27578947368421, 'gini = 0.0\\nsamples = 1\\nvalue = [0, 1]'),\n",
              " Text(307.22823529411767, 97.27578947368421, 'gini = 0.0\\nsamples = 2\\nvalue = [2, 0]'),\n",
              " Text(311.16705882352943, 108.72, 'gini = 0.0\\nsamples = 3\\nvalue = [0, 3]'),\n",
              " Text(322.9835294117647, 120.16421052631578, 'X[1] <= 3434.5\\ngini = 0.087\\nsamples = 22\\nvalue = [1, 21]'),\n",
              " Text(319.04470588235296, 108.72, 'X[1] <= 3351.5\\ngini = 0.245\\nsamples = 7\\nvalue = [1, 6]'),\n",
              " Text(315.1058823529412, 97.27578947368421, 'gini = 0.0\\nsamples = 6\\nvalue = [0, 6]'),\n",
              " Text(322.9835294117647, 97.27578947368421, 'gini = 0.0\\nsamples = 1\\nvalue = [1, 0]'),\n",
              " Text(326.9223529411765, 108.72, 'gini = 0.0\\nsamples = 15\\nvalue = [0, 15]'),\n",
              " Text(322.9835294117647, 177.38526315789474, 'X[2] <= 418.5\\ngini = 0.494\\nsamples = 9\\nvalue = [5, 4]'),\n",
              " Text(319.04470588235296, 165.94105263157894, 'X[0] <= 2285.5\\ngini = 0.469\\nsamples = 8\\nvalue = [5, 3]'),\n",
              " Text(315.1058823529412, 154.49684210526317, 'gini = 0.0\\nsamples = 1\\nvalue = [0, 1]'),\n",
              " Text(322.9835294117647, 154.49684210526317, 'X[2] <= 118.0\\ngini = 0.408\\nsamples = 7\\nvalue = [5, 2]'),\n",
              " Text(319.04470588235296, 143.05263157894737, 'gini = 0.0\\nsamples = 3\\nvalue = [3, 0]'),\n",
              " Text(326.9223529411765, 143.05263157894737, 'X[0] <= 4879.0\\ngini = 0.5\\nsamples = 4\\nvalue = [2, 2]'),\n",
              " Text(322.9835294117647, 131.60842105263157, 'gini = 0.0\\nsamples = 2\\nvalue = [0, 2]'),\n",
              " Text(330.86117647058825, 131.60842105263157, 'gini = 0.0\\nsamples = 2\\nvalue = [2, 0]'),\n",
              " Text(326.9223529411765, 165.94105263157894, 'gini = 0.0\\nsamples = 1\\nvalue = [0, 1]'),\n",
              " Text(242.73000000000002, 188.82947368421054, 'gini = 0.0\\nsamples = 2\\nvalue = [2, 0]')]"
            ]
          },
          "metadata": {
            "tags": []
          },
          "execution_count": 23
        },
        {
          "output_type": "display_data",
          "data": {
            "image/png": "[encoded data removed]",
            "text/plain": [
              "<Figure size 432x288 with 1 Axes>"
            ]
          },
          "metadata": {
            "tags": [],
            "needs_background": "light"
          }
        }
      ]
    },
    {
      "cell_type": "code",
      "metadata": {
        "colab": {
          "base_uri": "https://localhost:8080/",
          "height": 248
        },
        "id": "6Z-W9EJcwMUc",
        "outputId": "e9b8c5e1-0bdb-41d8-db42-9bd79dfbc565"
      },
      "source": [
        "plt.figure()\n",
        "tree.plot_tree(clf,filled=True)  \n",
        "plt.savefig('tree.jpg',format='jpg',bbox_inches = \"tight\")"
      ],
      "execution_count": null,
      "outputs": [
        {
          "output_type": "display_data",
          "data": {
            "image/png": "[encoded data removed]",
            "text/plain": [
              "<Figure size 432x288 with 1 Axes>"
            ]
          },
          "metadata": {
            "tags": [],
            "needs_background": "light"
          }
        }
      ]
    },
    {
      "cell_type": "markdown",
      "metadata": {
        "id": "iY_Qo68ewTfS"
      },
      "source": [
        "##END OF ASSIGNMENT"
      ]
    },
    {
      "cell_type": "markdown",
      "metadata": {
        "id": "FEOBIVu2wXBp"
      },
      "source": [
        "**Author** : Rammya Dharshini K\n",
        "\n",
        "**Dates** : 14-06-2021\n",
        "\n",
        "**Reg.ID** : GO_STP_1613"
      ]
    }
  ]
}