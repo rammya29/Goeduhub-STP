{
  "nbformat": 4,
  "nbformat_minor": 0,
  "metadata": {
    "colab": {
      "name": "Assignment / Task  - 4.ipynb",
      "provenance": [],
      "collapsed_sections": [],
      "authorship_tag": "ABX9TyMzdVzoRIFjZsSM1CoZuTxv",
      "include_colab_link": true
    },
    "kernelspec": {
      "name": "python3",
      "display_name": "Python 3"
    },
    "language_info": {
      "name": "python"
    }
  },
  "cells": [
    {
      "cell_type": "markdown",
      "metadata": {
        "id": "view-in-github",
        "colab_type": "text"
      },
      "source": [
        "<a href=\"https://colab.research.google.com/github/rammya29/Goeduhub-STP/blob/main/Assignment_Task_4.ipynb\" target=\"_parent\"><img src=\"https://colab.research.google.com/assets/colab-badge.svg\" alt=\"Open In Colab\"/></a>"
      ]
    },
    {
      "cell_type": "markdown",
      "metadata": {
        "id": "9kxsRBwN5iGi"
      },
      "source": [
        "#**Assignment / Task - 4**"
      ]
    },
    {
      "cell_type": "markdown",
      "metadata": {
        "id": "73hxAJjC5pwr"
      },
      "source": [
        "##Question on Numpy"
      ]
    },
    {
      "cell_type": "markdown",
      "metadata": {
        "id": "rcf_mLCm5vZx"
      },
      "source": [
        "1. Import the numpy package under the name np and Print the numpy version and the configuration "
      ]
    },
    {
      "cell_type": "code",
      "metadata": {
        "colab": {
          "base_uri": "https://localhost:8080/",
          "height": 0
        },
        "id": "cEwz5QAv5-Yn",
        "outputId": "8f84bfb4-e30a-48da-b18e-659db69b1e93"
      },
      "source": [
        "import numpy as np\n",
        "print(np.__version__)\n",
        "print(np.show_config())"
      ],
      "execution_count": 1,
      "outputs": [
        {
          "output_type": "stream",
          "text": [
            "1.19.5\n",
            "blas_mkl_info:\n",
            "  NOT AVAILABLE\n",
            "blis_info:\n",
            "  NOT AVAILABLE\n",
            "openblas_info:\n",
            "    libraries = ['openblas', 'openblas']\n",
            "    library_dirs = ['/usr/local/lib']\n",
            "    language = c\n",
            "    define_macros = [('HAVE_CBLAS', None)]\n",
            "blas_opt_info:\n",
            "    libraries = ['openblas', 'openblas']\n",
            "    library_dirs = ['/usr/local/lib']\n",
            "    language = c\n",
            "    define_macros = [('HAVE_CBLAS', None)]\n",
            "lapack_mkl_info:\n",
            "  NOT AVAILABLE\n",
            "openblas_lapack_info:\n",
            "    libraries = ['openblas', 'openblas']\n",
            "    library_dirs = ['/usr/local/lib']\n",
            "    language = c\n",
            "    define_macros = [('HAVE_CBLAS', None)]\n",
            "lapack_opt_info:\n",
            "    libraries = ['openblas', 'openblas']\n",
            "    library_dirs = ['/usr/local/lib']\n",
            "    language = c\n",
            "    define_macros = [('HAVE_CBLAS', None)]\n",
            "None\n"
          ],
          "name": "stdout"
        }
      ]
    },
    {
      "cell_type": "markdown",
      "metadata": {
        "id": "6zj0jM6o57Dx"
      },
      "source": [
        "\n",
        "\n",
        "---\n",
        "\n"
      ]
    },
    {
      "cell_type": "markdown",
      "metadata": {
        "id": "Jb8MTndv58D9"
      },
      "source": [
        "2. Create a null vector of size 10"
      ]
    },
    {
      "cell_type": "code",
      "metadata": {
        "colab": {
          "base_uri": "https://localhost:8080/",
          "height": 0
        },
        "id": "pqg1b7PK6EGH",
        "outputId": "fb6af106-db0f-4231-c468-6a93dd2d4d23"
      },
      "source": [
        "import numpy as np\n",
        "x = np.zeros(10)\n",
        "print(x)"
      ],
      "execution_count": 2,
      "outputs": [
        {
          "output_type": "stream",
          "text": [
            "[0. 0. 0. 0. 0. 0. 0. 0. 0. 0.]\n"
          ],
          "name": "stdout"
        }
      ]
    },
    {
      "cell_type": "markdown",
      "metadata": {
        "id": "xp1ZzSiH6Ek7"
      },
      "source": [
        "\n",
        "\n",
        "---\n",
        "\n"
      ]
    },
    {
      "cell_type": "markdown",
      "metadata": {
        "id": "0PYYB26G6HUd"
      },
      "source": [
        "3. Create Simple 1-D array and check type and check data types in array"
      ]
    },
    {
      "cell_type": "code",
      "metadata": {
        "colab": {
          "base_uri": "https://localhost:8080/",
          "height": 0
        },
        "id": "0cFku6FV6FfQ",
        "outputId": "263d6ef7-b608-4c6e-f839-77445604d952"
      },
      "source": [
        "import numpy as np\n",
        "x = np.arange(10,21)\n",
        "print('Type : ' ,type(x))\n",
        "print('Datatype : ', x.dtype)"
      ],
      "execution_count": 3,
      "outputs": [
        {
          "output_type": "stream",
          "text": [
            "Type :  <class 'numpy.ndarray'>\n",
            "Datatype :  int64\n"
          ],
          "name": "stdout"
        }
      ]
    },
    {
      "cell_type": "markdown",
      "metadata": {
        "id": "UEmr5KhA6LBX"
      },
      "source": [
        "\n",
        "\n",
        "---\n",
        "\n"
      ]
    },
    {
      "cell_type": "markdown",
      "metadata": {
        "id": "60e7LuOf6L_f"
      },
      "source": [
        "4. How to find number of dimensions, bytes per element and bytes of memory used?"
      ]
    },
    {
      "cell_type": "code",
      "metadata": {
        "colab": {
          "base_uri": "https://localhost:8080/",
          "height": 0
        },
        "id": "4C98ZK8R6O8d",
        "outputId": "97d604c6-b87b-4198-edc4-18a2ed95cd54"
      },
      "source": [
        "import numpy as np\n",
        "x = np.arange(12).reshape((3, 4))\n",
        "print(\"Dimension of the array: \",x.ndim)\n",
        "print(\"Memory size of one array element in bytes: \",x.itemsize)\n",
        "print(\"Memory size of numpy array in bytes: \", x.nbytes)"
      ],
      "execution_count": 4,
      "outputs": [
        {
          "output_type": "stream",
          "text": [
            "Dimension of the array:  2\n",
            "Memory size of one array element in bytes:  8\n",
            "Memory size of numpy array in bytes:  96\n"
          ],
          "name": "stdout"
        }
      ]
    },
    {
      "cell_type": "markdown",
      "metadata": {
        "id": "ClOP4DPP6PVN"
      },
      "source": [
        "\n",
        "\n",
        "---\n",
        "\n"
      ]
    },
    {
      "cell_type": "markdown",
      "metadata": {
        "id": "HadFI1FA6QIE"
      },
      "source": [
        "5. Create a null vector of size 10 but the fifth value which is 1"
      ]
    },
    {
      "cell_type": "code",
      "metadata": {
        "colab": {
          "base_uri": "https://localhost:8080/",
          "height": 0
        },
        "id": "M3AQ66vi6TWj",
        "outputId": "cc04adcc-8e20-4c76-fcb7-f1de7edb7d79"
      },
      "source": [
        "import numpy as np\n",
        "x = np.zeros(10)\n",
        "x[4]=1\n",
        "print(x)"
      ],
      "execution_count": 5,
      "outputs": [
        {
          "output_type": "stream",
          "text": [
            "[0. 0. 0. 0. 1. 0. 0. 0. 0. 0.]\n"
          ],
          "name": "stdout"
        }
      ]
    },
    {
      "cell_type": "markdown",
      "metadata": {
        "id": "eRfL5y5k6TsE"
      },
      "source": [
        "\n",
        "\n",
        "---\n",
        "\n"
      ]
    },
    {
      "cell_type": "markdown",
      "metadata": {
        "id": "muvbimp16VjO"
      },
      "source": [
        "6. Create a vector with values ranging from 10 to 49"
      ]
    },
    {
      "cell_type": "code",
      "metadata": {
        "colab": {
          "base_uri": "https://localhost:8080/",
          "height": 0
        },
        "id": "pBUm1cSw6Ue2",
        "outputId": "e4c80b8c-7ea0-4d54-d4e6-1948bd337ce1"
      },
      "source": [
        "import numpy as np\n",
        "x = np.arange(10,50)\n",
        "print(x)"
      ],
      "execution_count": 6,
      "outputs": [
        {
          "output_type": "stream",
          "text": [
            "[10 11 12 13 14 15 16 17 18 19 20 21 22 23 24 25 26 27 28 29 30 31 32 33\n",
            " 34 35 36 37 38 39 40 41 42 43 44 45 46 47 48 49]\n"
          ],
          "name": "stdout"
        }
      ]
    },
    {
      "cell_type": "markdown",
      "metadata": {
        "id": "gb5simut6alz"
      },
      "source": [
        "\n",
        "\n",
        "---\n",
        "\n"
      ]
    },
    {
      "cell_type": "markdown",
      "metadata": {
        "id": "qoY-I0u36bVp"
      },
      "source": [
        "7. Reverse a vector (first element becomes last)"
      ]
    },
    {
      "cell_type": "code",
      "metadata": {
        "colab": {
          "base_uri": "https://localhost:8080/",
          "height": 0
        },
        "id": "yNauJxLy6c5f",
        "outputId": "6a0bd13d-f41e-42aa-9c67-65611ef32ccb"
      },
      "source": [
        "import numpy as np\n",
        "x = np.arange(12, 20)\n",
        "print(x)\n",
        "x = x[::-1]\n",
        "print(x)"
      ],
      "execution_count": 7,
      "outputs": [
        {
          "output_type": "stream",
          "text": [
            "[12 13 14 15 16 17 18 19]\n",
            "[19 18 17 16 15 14 13 12]\n"
          ],
          "name": "stdout"
        }
      ]
    },
    {
      "cell_type": "markdown",
      "metadata": {
        "id": "HxsOqiHf6dNn"
      },
      "source": [
        "\n",
        "\n",
        "---\n",
        "\n"
      ]
    },
    {
      "cell_type": "markdown",
      "metadata": {
        "id": "VNF9zmWB6ebk"
      },
      "source": [
        "8. Create a 3x3 matrix with values ranging from 0 to 8"
      ]
    },
    {
      "cell_type": "code",
      "metadata": {
        "colab": {
          "base_uri": "https://localhost:8080/",
          "height": 0
        },
        "id": "EPC_C8SU6jJ6",
        "outputId": "b5c7bc61-1faa-41b6-98c2-d95c26e057ac"
      },
      "source": [
        "import numpy as np\n",
        "x = np.arange(0,9).reshape(3,3)\n",
        "print(x)"
      ],
      "execution_count": 8,
      "outputs": [
        {
          "output_type": "stream",
          "text": [
            "[[0 1 2]\n",
            " [3 4 5]\n",
            " [6 7 8]]\n"
          ],
          "name": "stdout"
        }
      ]
    },
    {
      "cell_type": "markdown",
      "metadata": {
        "id": "lrb8rrsA6jdK"
      },
      "source": [
        "\n",
        "\n",
        "---\n",
        "\n"
      ]
    },
    {
      "cell_type": "markdown",
      "metadata": {
        "id": "vodE_7WV6kTc"
      },
      "source": [
        "9. Find indices of non-zero elements from `[1,2,0,0,4,0]`"
      ]
    },
    {
      "cell_type": "code",
      "metadata": {
        "colab": {
          "base_uri": "https://localhost:8080/",
          "height": 0
        },
        "id": "D0hxlOLa6pBN",
        "outputId": "5d416ea3-1c98-4a3a-ab11-8820b529771c"
      },
      "source": [
        "import numpy as np\n",
        "c=[1,2,0,0,4,0]\n",
        "x = np.nonzero(c)\n",
        "print(\"Indices of non-zero element is : \", x)"
      ],
      "execution_count": 9,
      "outputs": [
        {
          "output_type": "stream",
          "text": [
            "Indices of non-zero element is :  (array([0, 1, 4]),)\n"
          ],
          "name": "stdout"
        }
      ]
    },
    {
      "cell_type": "markdown",
      "metadata": {
        "id": "Tc79V6QU6pav"
      },
      "source": [
        "\n",
        "\n",
        "---\n",
        "\n"
      ]
    },
    {
      "cell_type": "markdown",
      "metadata": {
        "id": "F4VGKsyd6rnn"
      },
      "source": [
        "10. Create a 3x3 identity matrix"
      ]
    },
    {
      "cell_type": "code",
      "metadata": {
        "colab": {
          "base_uri": "https://localhost:8080/",
          "height": 0
        },
        "id": "k0jlsrOB6uNt",
        "outputId": "14cd57a2-2ad7-46f5-b691-e763c93a5462"
      },
      "source": [
        "import numpy as np\n",
        "x = np.identity(3) #np.eye(3)\n",
        "print(x)"
      ],
      "execution_count": 10,
      "outputs": [
        {
          "output_type": "stream",
          "text": [
            "[[1. 0. 0.]\n",
            " [0. 1. 0.]\n",
            " [0. 0. 1.]]\n"
          ],
          "name": "stdout"
        }
      ]
    },
    {
      "cell_type": "markdown",
      "metadata": {
        "id": "Rg1dnnU56upc"
      },
      "source": [
        "\n",
        "\n",
        "---\n",
        "\n"
      ]
    },
    {
      "cell_type": "markdown",
      "metadata": {
        "id": "83jzY0jI6vqU"
      },
      "source": [
        "11. Create a 3x3x3 array with random values"
      ]
    },
    {
      "cell_type": "code",
      "metadata": {
        "colab": {
          "base_uri": "https://localhost:8080/",
          "height": 0
        },
        "id": "Ti_SNWnf6zGm",
        "outputId": "8ba42467-d851-4d40-9bca-d5ee868963c2"
      },
      "source": [
        "import numpy as np\n",
        "x = np.random.random((3,3,3))\n",
        "print(x)"
      ],
      "execution_count": 11,
      "outputs": [
        {
          "output_type": "stream",
          "text": [
            "[[[0.50187433 0.08848414 0.18084455]\n",
            "  [0.92025897 0.51752737 0.1638718 ]\n",
            "  [0.65457621 0.68196766 0.25418765]]\n",
            "\n",
            " [[0.35957945 0.38724863 0.71661744]\n",
            "  [0.5617879  0.393631   0.35654405]\n",
            "  [0.92681898 0.64785592 0.43664492]]\n",
            "\n",
            " [[0.7361429  0.27384369 0.94468644]\n",
            "  [0.1934857  0.37641298 0.62273381]\n",
            "  [0.47653998 0.50458154 0.94146658]]]\n"
          ],
          "name": "stdout"
        }
      ]
    },
    {
      "cell_type": "markdown",
      "metadata": {
        "id": "DzQd3TX26zds"
      },
      "source": [
        "\n",
        "\n",
        "---\n",
        "\n"
      ]
    },
    {
      "cell_type": "markdown",
      "metadata": {
        "id": "a_yhPmp560lP"
      },
      "source": [
        "12. Create a 10x10 array with random values and find the minimum and maximum values"
      ]
    },
    {
      "cell_type": "code",
      "metadata": {
        "colab": {
          "base_uri": "https://localhost:8080/",
          "height": 0
        },
        "id": "XNqAMMU563K7",
        "outputId": "04ea3bca-68b6-46e2-c028-8cccb22eb7ce"
      },
      "source": [
        "import numpy as np\n",
        "x = np.random.random(100).reshape(10,10)\n",
        "print(x)\n",
        "print(\"Maximum Value is : \" , x.max())\n",
        "print(\"Minimum Value is : \" , x.min())"
      ],
      "execution_count": 12,
      "outputs": [
        {
          "output_type": "stream",
          "text": [
            "[[0.49560208 0.03092801 0.88242211 0.39849981 0.89357009 0.41183155\n",
            "  0.81886153 0.2889649  0.84523198 0.20241739]\n",
            " [0.81458068 0.06779215 0.47292178 0.69183007 0.6385042  0.18726843\n",
            "  0.36360617 0.33574465 0.51978895 0.75883818]\n",
            " [0.69131494 0.46465598 0.1454426  0.85263347 0.46148135 0.61996827\n",
            "  0.72152257 0.81473197 0.7304744  0.96481319]\n",
            " [0.64134781 0.75933473 0.47622912 0.39785817 0.91827616 0.65663092\n",
            "  0.45795734 0.10315493 0.96608068 0.06945823]\n",
            " [0.80197446 0.10880692 0.66176585 0.90559911 0.97964477 0.84100628\n",
            "  0.57993523 0.31627268 0.0491552  0.39390671]\n",
            " [0.89958533 0.41455342 0.3150914  0.35507068 0.62633953 0.21637593\n",
            "  0.92161941 0.46019366 0.9741254  0.31542909]\n",
            " [0.38247414 0.69645432 0.94806165 0.48760505 0.29823462 0.82327216\n",
            "  0.90536068 0.22072191 0.02889832 0.94890913]\n",
            " [0.58969284 0.14596775 0.94706764 0.41805039 0.8146248  0.91645416\n",
            "  0.50165894 0.94238085 0.6696549  0.06051658]\n",
            " [0.27371748 0.19508371 0.67979484 0.80178029 0.77588193 0.60812919\n",
            "  0.14739357 0.9766038  0.80711278 0.26249441]\n",
            " [0.8211741  0.92098122 0.20166925 0.91465267 0.88608437 0.10349789\n",
            "  0.81603168 0.88722157 0.19065576 0.24690574]]\n",
            "Maximum Value is :  0.979644765927476\n",
            "Minimum Value is :  0.02889831760441841\n"
          ],
          "name": "stdout"
        }
      ]
    },
    {
      "cell_type": "markdown",
      "metadata": {
        "id": "t1AuS2Pj63nu"
      },
      "source": [
        "\n",
        "\n",
        "---\n",
        "\n"
      ]
    },
    {
      "cell_type": "markdown",
      "metadata": {
        "id": "kZQL_clh644q"
      },
      "source": [
        "13. Create a random vector of size 30 and find the mean value"
      ]
    },
    {
      "cell_type": "code",
      "metadata": {
        "colab": {
          "base_uri": "https://localhost:8080/",
          "height": 0
        },
        "id": "lLdPqw6c670p",
        "outputId": "97896a98-a848-48d1-fbb1-19265fcab8d7"
      },
      "source": [
        "import numpy as np\n",
        "x = np.random.random(30)\n",
        "print(x)\n",
        "print(\"Mean is : \",x.mean())"
      ],
      "execution_count": 13,
      "outputs": [
        {
          "output_type": "stream",
          "text": [
            "[0.36848726 0.63641026 0.01722626 0.20727061 0.63015573 0.60830726\n",
            " 0.78660223 0.3064552  0.86391697 0.86483334 0.71684652 0.94308587\n",
            " 0.08829887 0.65019655 0.31402597 0.08051258 0.28053336 0.96841523\n",
            " 0.53372636 0.4754189  0.7099017  0.69680137 0.81915373 0.08680677\n",
            " 0.47614069 0.86057209 0.97126205 0.12399113 0.50466047 0.960123  ]\n",
            "Mean is :  0.5516712778101236\n"
          ],
          "name": "stdout"
        }
      ]
    },
    {
      "cell_type": "markdown",
      "metadata": {
        "id": "XuxIjO1X68Iw"
      },
      "source": [
        "\n",
        "\n",
        "---\n",
        "\n"
      ]
    },
    {
      "cell_type": "markdown",
      "metadata": {
        "id": "CpIaJrA_69__"
      },
      "source": [
        "14. Create a 2d array with 1 on the border and 0 inside"
      ]
    },
    {
      "cell_type": "code",
      "metadata": {
        "colab": {
          "base_uri": "https://localhost:8080/",
          "height": 0
        },
        "id": "9I5xI-nH7Ar0",
        "outputId": "237d0154-bdde-4f12-a5aa-b87ad4aeda8d"
      },
      "source": [
        "import numpy as np\n",
        "x = np.ones((5,5))\n",
        "x[1:-1,1:-1] = 0\n",
        "print(x)"
      ],
      "execution_count": 14,
      "outputs": [
        {
          "output_type": "stream",
          "text": [
            "[[1. 1. 1. 1. 1.]\n",
            " [1. 0. 0. 0. 1.]\n",
            " [1. 0. 0. 0. 1.]\n",
            " [1. 0. 0. 0. 1.]\n",
            " [1. 1. 1. 1. 1.]]\n"
          ],
          "name": "stdout"
        }
      ]
    },
    {
      "cell_type": "markdown",
      "metadata": {
        "id": "YuGsDshb7A-2"
      },
      "source": [
        "\n",
        "\n",
        "---\n",
        "\n"
      ]
    },
    {
      "cell_type": "markdown",
      "metadata": {
        "id": "c1cCZGNs7CB2"
      },
      "source": [
        "15. How to add a border (filled with 0's) around an existing array? "
      ]
    },
    {
      "cell_type": "code",
      "metadata": {
        "colab": {
          "base_uri": "https://localhost:8080/",
          "height": 0
        },
        "id": "z8ZspcY97FMJ",
        "outputId": "cbedf4fa-2aae-458d-922c-4229f5495ce8"
      },
      "source": [
        "import numpy as np\n",
        "x = np.zeros((5,5))\n",
        "x[1:-1,1:-1] = 1\n",
        "print(x)"
      ],
      "execution_count": 15,
      "outputs": [
        {
          "output_type": "stream",
          "text": [
            "[[0. 0. 0. 0. 0.]\n",
            " [0. 1. 1. 1. 0.]\n",
            " [0. 1. 1. 1. 0.]\n",
            " [0. 1. 1. 1. 0.]\n",
            " [0. 0. 0. 0. 0.]]\n"
          ],
          "name": "stdout"
        }
      ]
    },
    {
      "cell_type": "markdown",
      "metadata": {
        "id": "ZRNTwh5z7Fd2"
      },
      "source": [
        "\n",
        "\n",
        "---\n",
        "\n"
      ]
    },
    {
      "cell_type": "markdown",
      "metadata": {
        "id": "k4wRYb1Y7Goy"
      },
      "source": [
        "16. How to Accessing/Changing specific elements, rows, columns, etc in Numpy array?\n",
        "\n",
        " Example -\n",
        "`[[ 1 2 3 4 5 6 7] [ 8 9 10 11 12 13 14]]`"
      ]
    },
    {
      "cell_type": "code",
      "metadata": {
        "colab": {
          "base_uri": "https://localhost:8080/",
          "height": 0
        },
        "id": "1trTBkTQ7UKG",
        "outputId": "fba07129-4f17-48d0-d7ae-663fba5e45f0"
      },
      "source": [
        "import numpy as np\n",
        "x = np.arange(1,15).reshape(2,7)\n",
        "print(x)"
      ],
      "execution_count": 16,
      "outputs": [
        {
          "output_type": "stream",
          "text": [
            "[[ 1  2  3  4  5  6  7]\n",
            " [ 8  9 10 11 12 13 14]]\n"
          ],
          "name": "stdout"
        }
      ]
    },
    {
      "cell_type": "markdown",
      "metadata": {
        "id": "CB6wuwWW-SGW"
      },
      "source": [
        "   * **Get 13** "
      ]
    },
    {
      "cell_type": "code",
      "metadata": {
        "colab": {
          "base_uri": "https://localhost:8080/",
          "height": 0
        },
        "id": "gFd0zA7C-XGb",
        "outputId": "72a7522d-8e06-4afa-e9b4-8690e5009b82"
      },
      "source": [
        "print(x[1,5])"
      ],
      "execution_count": 17,
      "outputs": [
        {
          "output_type": "stream",
          "text": [
            "13\n"
          ],
          "name": "stdout"
        }
      ]
    },
    {
      "cell_type": "markdown",
      "metadata": {
        "id": "Pf0C3r-v-g25"
      },
      "source": [
        "  * **Get first row only**"
      ]
    },
    {
      "cell_type": "code",
      "metadata": {
        "colab": {
          "base_uri": "https://localhost:8080/",
          "height": 0
        },
        "id": "Iv5jeO_z-j7X",
        "outputId": "bfb9e503-1922-413d-d4cc-ff1d08ff65b8"
      },
      "source": [
        "print(x[0,:])"
      ],
      "execution_count": 18,
      "outputs": [
        {
          "output_type": "stream",
          "text": [
            "[1 2 3 4 5 6 7]\n"
          ],
          "name": "stdout"
        }
      ]
    },
    {
      "cell_type": "markdown",
      "metadata": {
        "id": "UxoHkewR-r82"
      },
      "source": [
        "   *  **Get 3rd column only**"
      ]
    },
    {
      "cell_type": "code",
      "metadata": {
        "colab": {
          "base_uri": "https://localhost:8080/",
          "height": 0
        },
        "id": "Lg8-C2rQ-xDR",
        "outputId": "97083e7c-3a5a-45eb-83bb-03d639b0333e"
      },
      "source": [
        "print(x[:,3])"
      ],
      "execution_count": 19,
      "outputs": [
        {
          "output_type": "stream",
          "text": [
            "[ 4 11]\n"
          ],
          "name": "stdout"
        }
      ]
    },
    {
      "cell_type": "markdown",
      "metadata": {
        "id": "H37PQDqK-5it"
      },
      "source": [
        "  * **Get `[2, 4, 6]`**"
      ]
    },
    {
      "cell_type": "code",
      "metadata": {
        "colab": {
          "base_uri": "https://localhost:8080/",
          "height": 0
        },
        "id": "U35Mm0tA-9SU",
        "outputId": "3e708908-1285-4bb9-a7a8-4bcfd9f97c31"
      },
      "source": [
        "print(x[0,1::2])"
      ],
      "execution_count": 20,
      "outputs": [
        {
          "output_type": "stream",
          "text": [
            "[2 4 6]\n"
          ],
          "name": "stdout"
        }
      ]
    },
    {
      "cell_type": "markdown",
      "metadata": {
        "id": "BJ91mV54_E7c"
      },
      "source": [
        "  * **Replace 13 by 20**"
      ]
    },
    {
      "cell_type": "code",
      "metadata": {
        "colab": {
          "base_uri": "https://localhost:8080/",
          "height": 0
        },
        "id": "JZ2Z246w_Hm3",
        "outputId": "783bcf60-a531-47e8-f870-3564e098d336"
      },
      "source": [
        "x[1,5]=20\n",
        "print(x)"
      ],
      "execution_count": 21,
      "outputs": [
        {
          "output_type": "stream",
          "text": [
            "[[ 1  2  3  4  5  6  7]\n",
            " [ 8  9 10 11 12 20 14]]\n"
          ],
          "name": "stdout"
        }
      ]
    },
    {
      "cell_type": "markdown",
      "metadata": {
        "id": "pfYVe39D7Uhk"
      },
      "source": [
        "\n",
        "\n",
        "---\n",
        "\n"
      ]
    },
    {
      "cell_type": "markdown",
      "metadata": {
        "id": "lrQEIs6j7Vy5"
      },
      "source": [
        "17. How to Convert a 1D array to a 2D array with 2 rows"
      ]
    },
    {
      "cell_type": "code",
      "metadata": {
        "colab": {
          "base_uri": "https://localhost:8080/",
          "height": 0
        },
        "id": "72ScltUj7Z6K",
        "outputId": "e40aa207-4b29-43bf-eb02-890fb2be8f29"
      },
      "source": [
        "import numpy as np\n",
        "x = np. array([0, 1, 2, 3, 4, 5, 6, 7, 8, 9])\n",
        "arr_2d = np. reshape(x, (2, 5))\n",
        "print(arr_2d)"
      ],
      "execution_count": 22,
      "outputs": [
        {
          "output_type": "stream",
          "text": [
            "[[0 1 2 3 4]\n",
            " [5 6 7 8 9]]\n"
          ],
          "name": "stdout"
        }
      ]
    },
    {
      "cell_type": "markdown",
      "metadata": {
        "id": "7h1OUUO77aTv"
      },
      "source": [
        "\n",
        "\n",
        "---\n",
        "\n"
      ]
    },
    {
      "cell_type": "markdown",
      "metadata": {
        "id": "r4HkPe2c7bPW"
      },
      "source": [
        "18. Create the following pattern without hardcoding. Use only numpy functions and the below input array a.\n",
        "\n",
        " Input: `a = np.array([1,2,3])`\n",
        "\n",
        " Desired Output: `array([1, 1, 1, 2, 2, 2, 3, 3, 3, 1, 2, 3, 1, 2, 3, 1, 2, 3])`"
      ]
    },
    {
      "cell_type": "code",
      "metadata": {
        "id": "J_GLq2Mi7tcK",
        "colab": {
          "base_uri": "https://localhost:8080/",
          "height": 0
        },
        "outputId": "d29c5f8d-1edc-4c79-a6dc-894d2ab6c037"
      },
      "source": [
        "import numpy as np\n",
        "a = np.array([1,2,3])\n",
        "a = np.append(np.repeat(a,3),np.tile(a,3))\n",
        "print(a)"
      ],
      "execution_count": 23,
      "outputs": [
        {
          "output_type": "stream",
          "text": [
            "[1 1 1 2 2 2 3 3 3 1 2 3 1 2 3 1 2 3]\n"
          ],
          "name": "stdout"
        }
      ]
    },
    {
      "cell_type": "markdown",
      "metadata": {
        "id": "yg_lRjlS7t8H"
      },
      "source": [
        "\n",
        "\n",
        "---\n",
        "\n"
      ]
    },
    {
      "cell_type": "markdown",
      "metadata": {
        "id": "miCATXpB7uwI"
      },
      "source": [
        "19. Write a program to show how Numpy taking less memory compared to Python List?"
      ]
    },
    {
      "cell_type": "code",
      "metadata": {
        "colab": {
          "base_uri": "https://localhost:8080/",
          "height": 0
        },
        "id": "tq299SqM7xij",
        "outputId": "d3a64035-58ba-4e75-98f0-2ea572bdb931"
      },
      "source": [
        "import numpy as np\n",
        "import sys\n",
        "array = np.arange(10)\n",
        "print(\"Size of NumPy array: \", array.itemsize * array.itemsize)\n",
        "list1 = range(0, 10)\n",
        "print(\"Size of list: \", sys.getsizeof(1)*len(list1))"
      ],
      "execution_count": 24,
      "outputs": [
        {
          "output_type": "stream",
          "text": [
            "Size of NumPy array:  64\n",
            "Size of list:  280\n"
          ],
          "name": "stdout"
        }
      ]
    },
    {
      "cell_type": "markdown",
      "metadata": {
        "id": "gZxWWRXy7yA9"
      },
      "source": [
        "\n",
        "\n",
        "---\n",
        "\n"
      ]
    },
    {
      "cell_type": "markdown",
      "metadata": {
        "id": "UPofqbT27y1y"
      },
      "source": [
        "20. Write a program to show how Numpy taking less time compared to Python List?"
      ]
    },
    {
      "cell_type": "code",
      "metadata": {
        "colab": {
          "base_uri": "https://localhost:8080/",
          "height": 0
        },
        "id": "chmmTu5N72Az",
        "outputId": "40eb562a-81f8-44c5-f859-6d0e05450b7a"
      },
      "source": [
        "import numpy as np\n",
        "import time\n",
        "import sys\n",
        "Size = 100000\n",
        "list1 = range(Size)\n",
        "list2 = range(Size)\n",
        "arr1 = np.arange(Size)\n",
        "arr2 = np.arange(Size)\n",
        "start = time.time()\n",
        "result = [(x * y) for x, y in zip(list1, list2)]        \n",
        "print(\"Time for Python List in msec: \", (time.time() - start) * 1000)\n",
        "start = time.time()\n",
        "result = arr1 * arr2\n",
        "print(\"Time for NumPy array in msec: \", (time.time()- start) * 1000)"
      ],
      "execution_count": 25,
      "outputs": [
        {
          "output_type": "stream",
          "text": [
            "Time for Python List in msec:  17.47584342956543\n",
            "Time for NumPy array in msec:  1.901388168334961\n"
          ],
          "name": "stdout"
        }
      ]
    },
    {
      "cell_type": "markdown",
      "metadata": {
        "id": "1C-RRyuy72Vn"
      },
      "source": [
        "\n",
        "\n",
        "---\n",
        "\n"
      ]
    },
    {
      "cell_type": "markdown",
      "metadata": {
        "id": "J4wztoy773li"
      },
      "source": [
        "#End Of Assignment"
      ]
    },
    {
      "cell_type": "markdown",
      "metadata": {
        "id": "nrd50wQj76hK"
      },
      "source": [
        "**Author** : Rammya Dharshini K\n",
        "\n",
        "**Date** : 27 - 05 - 2021\n",
        "\n",
        "**Reg.ID** : GO_STP_1613"
      ]
    }
  ]
}