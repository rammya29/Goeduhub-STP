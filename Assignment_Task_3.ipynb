{
  "nbformat": 4,
  "nbformat_minor": 0,
  "metadata": {
    "colab": {
      "name": "Assignment/ Task - 3.ipynb",
      "provenance": [],
      "collapsed_sections": [],
      "authorship_tag": "ABX9TyO4rdxcmCMKF2qPyjc6cX6B",
      "include_colab_link": true
    },
    "kernelspec": {
      "name": "python3",
      "display_name": "Python 3"
    },
    "language_info": {
      "name": "python"
    }
  },
  "cells": [
    {
      "cell_type": "markdown",
      "metadata": {
        "id": "view-in-github",
        "colab_type": "text"
      },
      "source": [
        "<a href=\"https://colab.research.google.com/github/rammya29/Goeduhub-STP/blob/main/Assignment_Task_3.ipynb\" target=\"_parent\"><img src=\"https://colab.research.google.com/assets/colab-badge.svg\" alt=\"Open In Colab\"/></a>"
      ]
    },
    {
      "cell_type": "markdown",
      "metadata": {
        "id": "s7ch-89JMb20"
      },
      "source": [
        "#Assignment/Task 3"
      ]
    },
    {
      "cell_type": "markdown",
      "metadata": {
        "id": "e7RZzjxKMruq"
      },
      "source": [
        "##Question on Dictionary :"
      ]
    },
    {
      "cell_type": "markdown",
      "metadata": {
        "id": "a9q2pRlQMzrz"
      },
      "source": [
        "1 Write a Python Program to sort (ascending and descending) a dictionary by value. "
      ]
    },
    {
      "cell_type": "code",
      "metadata": {
        "id": "aKjDd6dxQTs1"
      },
      "source": [
        "import operator\n",
        "d = {1: 2, 3: 4, 4: 3, 2: 1, 0: 0}\n",
        "print('Original dictionary : ',d)\n",
        "sorted_d = sorted(d.items(), key=operator.itemgetter(1))\n",
        "print('Dictionary in ascending order by value : ',sorted_d)\n",
        "sorted_d =  sorted(d.items(), key=operator.itemgetter(1),reverse=True)\n",
        "print('Dictionary in descending order by value : ',sorted_d)"
      ],
      "execution_count": null,
      "outputs": []
    },
    {
      "cell_type": "markdown",
      "metadata": {
        "id": "PtHT1plhSTip"
      },
      "source": [
        "\n",
        "\n",
        "---\n",
        "\n"
      ]
    },
    {
      "cell_type": "markdown",
      "metadata": {
        "id": "-d9ssOMqM33V"
      },
      "source": [
        "2 Write a Python Program to add a key to a dictionary. \n",
        "\n",
        "`Sample Dictionary : {0: 10, 1: 20}`\n",
        "\n",
        "`Expected Result : {0: 10, 1: 20, 2: 30}`"
      ]
    },
    {
      "cell_type": "code",
      "metadata": {
        "id": "mxBG87d9SRRo"
      },
      "source": [
        "d = {0:10, 1:20}\n",
        "print(d)\n",
        "d.update({2:30})\n",
        "print(d)"
      ],
      "execution_count": null,
      "outputs": []
    },
    {
      "cell_type": "markdown",
      "metadata": {
        "id": "Uq-mDR6ySc-T"
      },
      "source": [
        "\n",
        "\n",
        "---\n",
        "\n"
      ]
    },
    {
      "cell_type": "markdown",
      "metadata": {
        "id": "aoI6918KNGaD"
      },
      "source": [
        "3 Write a  program asks for City name and Temperature and builds a dictionary using that Later on you can input City name and it will tell you the Temperature of that City\n"
      ]
    },
    {
      "cell_type": "code",
      "metadata": {
        "id": "1yGlMVEPSep2"
      },
      "source": [
        "d_city = {}\n",
        "for i in range(5):\n",
        "  data = input().split(' ')\n",
        "  d_city[data[0]]=data[1]\n",
        "#print(d_city)\n",
        "city = input()\n",
        "print(\"The temperature in \" city, \" is \" d_city[city])"
      ],
      "execution_count": null,
      "outputs": []
    },
    {
      "cell_type": "markdown",
      "metadata": {
        "id": "wrvzHuHnSduU"
      },
      "source": [
        "\n",
        "\n",
        "---\n",
        "\n"
      ]
    },
    {
      "cell_type": "markdown",
      "metadata": {
        "id": "tuhN0l4ANmMj"
      },
      "source": [
        "4 Write a Python program to convert list to list of dictionaries.\n",
        "\n",
        "Sample lists: `[\"Black\", \"Red\", \"Maroon\", \"Yellow\"], [\"#000000\", \"#FF0000\", \"#800000\", \"#FFFF00\"]`\n",
        "\n",
        "Expected Output: `[{'color_name': 'Black', 'color_code': '#000000'}, {'color_name': 'Red', 'color_code': '#FF0000'}, {'color_name': 'Maroon', 'color_code': '#800000'}, {'color_name': 'Yellow', 'color_code': '#FFFF00'}]`"
      ]
    },
    {
      "cell_type": "code",
      "metadata": {
        "id": "gDFAEUvJSf3Z"
      },
      "source": [
        "color = [\"Black\",\"Red\" ,\"Maroon\", \"Yellow\"]\n",
        "code = [\"#000000\", \"#FF0000\", \"#800000\", \"#FFFF00\"]\n",
        "color_code = [{'color_name' : c , 'color_code' : co}for c,co in zip(color,code)]\n",
        "print(color_code)"
      ],
      "execution_count": null,
      "outputs": []
    },
    {
      "cell_type": "markdown",
      "metadata": {
        "id": "IFohlMeXSgOy"
      },
      "source": [
        "---"
      ]
    },
    {
      "cell_type": "markdown",
      "metadata": {
        "id": "1CZteOsONxiF"
      },
      "source": [
        "5 We have following information on Employees and their Salary (Salary is in lakhs),\n",
        "\n",
        "`Employee  \t  Salary`\n",
        "\n",
        "  `John\t        14`\n",
        "\n",
        "  `Smith      \t13`\n",
        "\n",
        "  `Alice\t     32`\n",
        "\n",
        "  `Daneil\t     21`\n",
        "\n",
        "1. Using above create a dictionary of Employees and their Salary\n",
        "\n",
        "2. Write a program that asks user for three type of inputs,\n",
        "\n",
        " a.  print: if user enter print then it should print all Employees with their Salary in this format,\n",
        "\n",
        "    John ==>14\n",
        "\n",
        "    Smith ==>13\n",
        "\n",
        "    Alice ==>32\n",
        "\n",
        "    Daneil ==>21\n",
        "    \n",
        "  b.  add: if user input adds then it should further ask for an\n",
        "Employee name to add. If Employee already exists in our dataset then it should print that it exists and do nothing. If it doesn't then it asks for Salary and add that new Employee/Salary in our dictionary and print it\n",
        "\n",
        " c.  remove: when user inputs remove it should ask for an Employee to remove. If an Employee exists in our dictionary then remove it and print a new dictionary using format shown above in (a). Else print that Employee doesn't exist!\n",
        "\n",
        " d. query: on this again ask the user for which Employee he or she wants to query. When a user inputs that Employee it will print the Salary of that Employee."
      ]
    },
    {
      "cell_type": "code",
      "metadata": {
        "id": "xRDADP5pwmGc"
      },
      "source": [
        "employee={'John':14,'Smith':13,'Alice':32,'Daniel':21}\n",
        "print(employee)"
      ],
      "execution_count": null,
      "outputs": []
    },
    {
      "cell_type": "code",
      "metadata": {
        "id": "HzQ0DTNZxJLn"
      },
      "source": [
        "i=input()\n",
        "c=1\n",
        "if (i == 'print'):\n",
        "  for keys,value in employee.items():\n",
        "    print( c ,\". \",keys, '  ==>  ',employee[keys])\n",
        "    c+=1\n",
        "elif (i == 'add'):\n",
        "  name=input()\n",
        "  if name in employee.keys():\n",
        "    print(\"Already Exists\")\n",
        "  else:\n",
        "    salary = int(input())\n",
        "    employee.update({name:salary})\n",
        "elif (i == 'remove'):\n",
        "  name=input()\n",
        "  if name in employee.keys():\n",
        "    employee.pop(name,None)\n",
        "  else:\n",
        "    print(\"Employee does not exist\")\n",
        "elif (i == 'query'):\n",
        "  name=input()\n",
        "  print(\"Salary : \",employee[name])"
      ],
      "execution_count": null,
      "outputs": []
    },
    {
      "cell_type": "markdown",
      "metadata": {
        "id": "f5RvwJY1P1ce"
      },
      "source": [
        "##Questions on Sets:"
      ]
    },
    {
      "cell_type": "markdown",
      "metadata": {
        "id": "592uETFvP377"
      },
      "source": [
        "1 What is the difference between a set and a frozenset? Create any set and try to use frozenset(setname)."
      ]
    },
    {
      "cell_type": "code",
      "metadata": {
        "id": "7kkky4nhSiZ_"
      },
      "source": [
        "vowels=('a','e','i','o','u')\n",
        "fset=frozenset(vowels)\n",
        "print(\"The frozen set is : \",fset)\n",
        "print(\"The empty frozen set is : \",frozenset)\n"
      ],
      "execution_count": null,
      "outputs": []
    },
    {
      "cell_type": "markdown",
      "metadata": {
        "id": "CeylTlOHSizh"
      },
      "source": [
        "\n",
        "\n",
        "---\n",
        "\n"
      ]
    },
    {
      "cell_type": "markdown",
      "metadata": {
        "id": "KmOmti5QP60q"
      },
      "source": [
        "2 Find the elements in a given set that are not in another set\n",
        "\n",
        "    set1 = {10,20,30,40,50}\n",
        "    set2 = {40,50,60,70,80}\n",
        "\n",
        " Difference between set1 and set2 is `{10,20,30}`"
      ]
    },
    {
      "cell_type": "code",
      "metadata": {
        "id": "hWO7Rm6ySlHQ"
      },
      "source": [
        "set1 = {10,20,30,40,50}\n",
        "set2 = {40,50,60,70,80}\n",
        "s = set1 - set2\n",
        "print(s)"
      ],
      "execution_count": null,
      "outputs": []
    },
    {
      "cell_type": "markdown",
      "metadata": {
        "id": "ggCI7XQiSlcZ"
      },
      "source": [
        "\n",
        "\n",
        "---\n",
        "\n"
      ]
    },
    {
      "cell_type": "markdown",
      "metadata": {
        "id": "jiR72pG_QMyl"
      },
      "source": [
        "#End Of Assignment"
      ]
    },
    {
      "cell_type": "markdown",
      "metadata": {
        "id": "KQ78swo20nnl"
      },
      "source": [
        "**Author** : Rammya Dahrshini K\n",
        "\n",
        "**Date** : 27-05-2021\n",
        "\n",
        "**Reg.Id**  : GO_STP_1613\n",
        "\n",
        "\n",
        "\n",
        "\n",
        "\n",
        "\n"
      ]
    }
  ]
}