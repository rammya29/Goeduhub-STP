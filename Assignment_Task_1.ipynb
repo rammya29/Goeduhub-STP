{
  "nbformat": 4,
  "nbformat_minor": 0,
  "metadata": {
    "colab": {
      "name": "Assignment / Task - 1.ipynb",
      "provenance": [],
      "collapsed_sections": [],
      "authorship_tag": "ABX9TyOYQXJMLdyTMh1E94c1KXqW",
      "include_colab_link": true
    },
    "kernelspec": {
      "name": "python3",
      "display_name": "Python 3"
    },
    "language_info": {
      "name": "python"
    }
  },
  "cells": [
    {
      "cell_type": "markdown",
      "metadata": {
        "id": "view-in-github",
        "colab_type": "text"
      },
      "source": [
        "<a href=\"https://colab.research.google.com/github/rammya29/Goeduhub-STP/blob/main/Assignment_Task_1.ipynb\" target=\"_parent\"><img src=\"https://colab.research.google.com/assets/colab-badge.svg\" alt=\"Open In Colab\"/></a>"
      ]
    },
    {
      "cell_type": "markdown",
      "metadata": {
        "id": "_xtMZxqEO4zy"
      },
      "source": [
        "#Assignment / Task - 1"
      ]
    },
    {
      "cell_type": "markdown",
      "metadata": {
        "id": "jSZdZRq8O-Gt"
      },
      "source": [
        "##Python Basics"
      ]
    },
    {
      "cell_type": "markdown",
      "metadata": {
        "id": "UeEeNj2NpATs"
      },
      "source": [
        "1. We are having 3 list like this\n",
        "\n",
        "  Colors = [“Yellow”,”Green”,”White”,”Black”]\n",
        "\n",
        "  Fruits=[“Apple”,”Papaya”,”Mango”,”Orange”]\n",
        "\n",
        "  Animals=[“Tiger”,”Lion”,”Deer”,”Zebra”] "
      ]
    },
    {
      "cell_type": "markdown",
      "metadata": {
        "id": "q59wB-H7qsPb"
      },
      "source": [
        "i. Write a program that asks user to enter a Color/Fruit/Animal name and it should tell which category belongs to , like its is a fruit or color or Animal"
      ]
    },
    {
      "cell_type": "code",
      "metadata": {
        "id": "8NOlYDM0qxlQ"
      },
      "source": [
        "colors=[\"Yellow\",\"Green\",\"White\",\"Black\"]\n",
        "Fruits=[\"Apple\",\"Papaya\",\"Mango\",\"Orange\"]\n",
        "Animals=[\"Tiger\",\"Lion\",\"Deer\",\"Zebra\"]\n",
        "name=input(\"Enter a Color/Fruit/Animal Name : \")\n",
        "if (name in colors):\n",
        "  print(\"It is color\")\n",
        "elif (name in Fruits):\n",
        "  print(\"It is fruit\")\n",
        "else:\n",
        "  print(\"It is Animal\")"
      ],
      "execution_count": null,
      "outputs": []
    },
    {
      "cell_type": "markdown",
      "metadata": {
        "id": "KFZIoKsxs2Rk"
      },
      "source": [
        " ii. Write a program that asks user to enter two cities and it tells you if they both are in same country or not. For example if I enter yellow and Black, it will print \"Both are colors\" but if I enter yellow and Tiger it should print \"They don't belong to same category\""
      ]
    },
    {
      "cell_type": "code",
      "metadata": {
        "id": "YdvEOmw6tHSa"
      },
      "source": [
        "colors=[\"Yellow\",\"Green\",\"White\",\"Black\"]\n",
        "Fruits=[\"Apple\",\"Papaya\",\"Mango\",\"Orange\"]\n",
        "Animals=[\"Tiger\",\"Lion\",\"Deer\",\"Zebra\"]\n",
        "name=input(\"Enter a 1st Color/Fruit/Animal Name : \")\n",
        "name1=input(\"Enter a 2nd Color/Fruit/Animal Name: \")\n",
        "if ((name in colors) and (name1 in colors)):\n",
        "  print(\"Both are colors\")\n",
        "elif ((name in Fruits) and (name1 in Fruits)):\n",
        "  print(\"Both are fruits\")\n",
        "elif ((name in Animals) and (name1 in Animals)):\n",
        "  print(\"Both are Animals\")\n",
        "else:\n",
        "  print(\"They don't belong to same category\")"
      ],
      "execution_count": null,
      "outputs": []
    },
    {
      "cell_type": "markdown",
      "metadata": {
        "id": "7yM4dJ4Gusdp"
      },
      "source": [
        "2.  Write a python program that can tell you if your grade score good or not . Good Score range is 40 to 60.\n",
        "\n",
        "  i. Ask user to enter his score.\n",
        "\n",
        "  ii. If it is below 40 to 60 range then print that score is low\n",
        "\n",
        "  iii. If it is above 60 then print that it is good otherwise print that it is normal"
      ]
    },
    {
      "cell_type": "code",
      "metadata": {
        "id": "B-zysZmGux-Q"
      },
      "source": [
        "score=int(input(\"Enter your Score: \"))\n",
        "if (score<40):\n",
        "  print(\"Score is low\")\n",
        "elif ((score < 60) & (score > 40)):\n",
        "  print(\"Score is Normal\")\n",
        "else:\n",
        "  print(\"Score is Good\")"
      ],
      "execution_count": null,
      "outputs": []
    },
    {
      "cell_type": "markdown",
      "metadata": {
        "id": "YczPjKkpvg0E"
      },
      "source": [
        "3.  After appearing in exam 10 times you got this result,\n",
        "\n",
        "result = [\"Pass\",\"Fail\",\"Fail\",\"Pass\",\"Fail\",\"Pass\",\"Pass\",\"Fail\",\"Fail\",\"Fail\"]\n",
        "\n",
        "Using for loop figure out how many times you got Pass"
      ]
    },
    {
      "cell_type": "code",
      "metadata": {
        "id": "Lsia0C-wvk0b"
      },
      "source": [
        "result=[\"Pass\",\"Fail\",\"Fail\",\"Pass\",\"Fail\",\"Pass\",\"Pass\",\"Fail\",\"Fail\",\"Fail\"]\n",
        "count=0\n",
        "for i in result:\n",
        "  if(i==\"Pass\"):\n",
        "    count+=1\n",
        "print(count)"
      ],
      "execution_count": null,
      "outputs": []
    },
    {
      "cell_type": "markdown",
      "metadata": {
        "id": "Jysi0wHKwRWU"
      },
      "source": [
        "4.  Write a program that prints following shape\n",
        " \n",
        "*\n",
        "* *\n",
        "* * *\n",
        "* * * *\n",
        "* * * * *\n",
        "* * * *\n",
        "* * *\n",
        "* *\n",
        "*"
      ]
    },
    {
      "cell_type": "code",
      "metadata": {
        "id": "88sC9-B8wVlZ"
      },
      "source": [
        "for i in range (6):\n",
        "  print('*'*i)\n",
        "for i in range (4,0,-1):\n",
        "  print('*'*i)"
      ],
      "execution_count": null,
      "outputs": []
    },
    {
      "cell_type": "markdown",
      "metadata": {
        "id": "DrOtO6a4xJpz"
      },
      "source": [
        "5.   Lets say you are running a 50 km race. Write a program that,\n",
        "\n",
        "Upon completing each 10 km asks you \"are you tired?\"\n",
        "If you reply \"yes\" then it should break and print \"you didn't finish the race\"\n",
        " If you reply \"no\" then it should continue and ask \"are you tired\" on every km\n",
        "If you finish all 50 km then it should print congratulations message"
      ]
    },
    {
      "cell_type": "code",
      "metadata": {
        "id": "g7ZDEaNxxMvF"
      },
      "source": [
        "for i in range(50):\n",
        "  if(i%10==0):\n",
        "    n=input(\"Are you Tired?: \")\n",
        "    if (n==\"yes\"):\n",
        "      print(\"you didn't finish the race\")\n",
        "      break\n",
        "    else:\n",
        "      continue\n",
        "if(i==49):\n",
        "  print(\"Congratulations\")\n",
        "\n",
        "    "
      ],
      "execution_count": null,
      "outputs": []
    },
    {
      "cell_type": "markdown",
      "metadata": {
        "id": "RYJ4KGdBy2RI"
      },
      "source": [
        "6.  Write a Python program to find those numbers which are divisible by 7 and multiple of 5, between 1500 and 2700 (both included)."
      ]
    },
    {
      "cell_type": "code",
      "metadata": {
        "id": "OsMJOtEry7Lj"
      },
      "source": [
        "for i in range(1500,2701,1):\n",
        "  if((i%7==0)&(i%5==0)):\n",
        "    print(i)"
      ],
      "execution_count": null,
      "outputs": []
    },
    {
      "cell_type": "markdown",
      "metadata": {
        "id": "xCl-Wuhey27Z"
      },
      "source": [
        "7.   Print square of all numbers between 10 to 20 except even numbers"
      ]
    },
    {
      "cell_type": "code",
      "metadata": {
        "id": "awOJ6Zy0y7md"
      },
      "source": [
        "for i in range(10,21,1):\n",
        "  if(i%2!=0):\n",
        "    print(i*i)"
      ],
      "execution_count": null,
      "outputs": []
    },
    {
      "cell_type": "markdown",
      "metadata": {
        "id": "sXuLVCz4y470"
      },
      "source": [
        "8.  Your Marks for five Test(test1 to test5) looks like this,\n",
        "\n",
        "marks_list = [65, 75, 2100, 95, 83]\n",
        "\n",
        "Write a program that asks you to enter marks and program should tell you in which test that marks occurred. If marks is not found then it should print that as well."
      ]
    },
    {
      "cell_type": "code",
      "metadata": {
        "id": "QFEcEkfIy8m0"
      },
      "source": [
        "marks_list=[65,75,2100,95,83]\n",
        "mark=int(input(\"Enter Marks: \"))\n",
        "c=1\n",
        "for i in marks_list:\n",
        "  if(i==mark):\n",
        "    print(c)\n",
        "  c+=1\n",
        "if(c==6):\n",
        "  print(\"Mark not found\")"
      ],
      "execution_count": null,
      "outputs": []
    },
    {
      "cell_type": "markdown",
      "metadata": {
        "id": "sDYqJrd8-ZXq"
      },
      "source": [
        "\n",
        "#**End Of Assignment**\n",
        "\n"
      ]
    },
    {
      "cell_type": "markdown",
      "metadata": {
        "id": "BhlPpl0BOvGF"
      },
      "source": [
        "**Author** : Rammya Dharshini K\n",
        "\n",
        "**Date** : 21 - 05 - 2021\n",
        "\n",
        "**Reg ID** : GO_STP_1613"
      ]
    }
  ]
}