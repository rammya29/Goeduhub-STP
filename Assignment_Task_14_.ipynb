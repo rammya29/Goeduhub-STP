{
  "nbformat": 4,
  "nbformat_minor": 0,
  "metadata": {
    "colab": {
      "name": "Assignment / Task -14 .ipynb",
      "provenance": [],
      "authorship_tag": "ABX9TyP2RfwBPAitFO652ChvD/fO",
      "include_colab_link": true
    },
    "kernelspec": {
      "name": "python3",
      "display_name": "Python 3"
    },
    "language_info": {
      "name": "python"
    }
  },
  "cells": [
    {
      "cell_type": "markdown",
      "metadata": {
        "id": "view-in-github",
        "colab_type": "text"
      },
      "source": [
        "<a href=\"https://colab.research.google.com/github/rammya29/Goeduhub-STP/blob/main/Assignment_Task_14_.ipynb\" target=\"_parent\"><img src=\"https://colab.research.google.com/assets/colab-badge.svg\" alt=\"Open In Colab\"/></a>"
      ]
    },
    {
      "cell_type": "markdown",
      "metadata": {
        "id": "kJLESD9gWubC"
      },
      "source": [
        "#Assignment / Task - 14"
      ]
    },
    {
      "cell_type": "markdown",
      "metadata": {
        "id": "Pw97u-kjWzI7"
      },
      "source": [
        "Practice KNN - We have a dataset that contains multiple user's information through the social network who are interested in buying SUV Car or not."
      ]
    },
    {
      "cell_type": "markdown",
      "metadata": {
        "id": "g5tfAdfCW1uz"
      },
      "source": [
        "DataSet-Click Here for Download [user_data.csv]() "
      ]
    },
    {
      "cell_type": "code",
      "metadata": {
        "id": "t_ZFnsecWyun"
      },
      "source": [
        "import pandas as pd\n",
        "import numpy as np\n",
        "import sklearn\n",
        "import seaborn as sns\n",
        "import matplotlib.pyplot as plt"
      ],
      "execution_count": 1,
      "outputs": []
    },
    {
      "cell_type": "code",
      "metadata": {
        "colab": {
          "base_uri": "https://localhost:8080/",
          "height": 205
        },
        "id": "spdiNpaYWdEG",
        "outputId": "74a06008-3686-40bd-f9b3-c6258bfbc11f"
      },
      "source": [
        "df=pd.read_csv('/content/User_Data.csv')\n",
        "df.head()"
      ],
      "execution_count": 2,
      "outputs": [
        {
          "output_type": "execute_result",
          "data": {
            "text/html": [
              "<div>\n",
              "<style scoped>\n",
              "    .dataframe tbody tr th:only-of-type {\n",
              "        vertical-align: middle;\n",
              "    }\n",
              "\n",
              "    .dataframe tbody tr th {\n",
              "        vertical-align: top;\n",
              "    }\n",
              "\n",
              "    .dataframe thead th {\n",
              "        text-align: right;\n",
              "    }\n",
              "</style>\n",
              "<table border=\"1\" class=\"dataframe\">\n",
              "  <thead>\n",
              "    <tr style=\"text-align: right;\">\n",
              "      <th></th>\n",
              "      <th>User ID</th>\n",
              "      <th>Gender</th>\n",
              "      <th>Age</th>\n",
              "      <th>EstimatedSalary</th>\n",
              "      <th>Purchased</th>\n",
              "    </tr>\n",
              "  </thead>\n",
              "  <tbody>\n",
              "    <tr>\n",
              "      <th>0</th>\n",
              "      <td>15624510</td>\n",
              "      <td>Male</td>\n",
              "      <td>19</td>\n",
              "      <td>19000</td>\n",
              "      <td>0</td>\n",
              "    </tr>\n",
              "    <tr>\n",
              "      <th>1</th>\n",
              "      <td>15810944</td>\n",
              "      <td>Male</td>\n",
              "      <td>35</td>\n",
              "      <td>20000</td>\n",
              "      <td>0</td>\n",
              "    </tr>\n",
              "    <tr>\n",
              "      <th>2</th>\n",
              "      <td>15668575</td>\n",
              "      <td>Female</td>\n",
              "      <td>26</td>\n",
              "      <td>43000</td>\n",
              "      <td>0</td>\n",
              "    </tr>\n",
              "    <tr>\n",
              "      <th>3</th>\n",
              "      <td>15603246</td>\n",
              "      <td>Female</td>\n",
              "      <td>27</td>\n",
              "      <td>57000</td>\n",
              "      <td>0</td>\n",
              "    </tr>\n",
              "    <tr>\n",
              "      <th>4</th>\n",
              "      <td>15804002</td>\n",
              "      <td>Male</td>\n",
              "      <td>19</td>\n",
              "      <td>76000</td>\n",
              "      <td>0</td>\n",
              "    </tr>\n",
              "  </tbody>\n",
              "</table>\n",
              "</div>"
            ],
            "text/plain": [
              "    User ID  Gender  Age  EstimatedSalary  Purchased\n",
              "0  15624510    Male   19            19000          0\n",
              "1  15810944    Male   35            20000          0\n",
              "2  15668575  Female   26            43000          0\n",
              "3  15603246  Female   27            57000          0\n",
              "4  15804002    Male   19            76000          0"
            ]
          },
          "metadata": {
            "tags": []
          },
          "execution_count": 2
        }
      ]
    },
    {
      "cell_type": "code",
      "metadata": {
        "colab": {
          "base_uri": "https://localhost:8080/"
        },
        "id": "fjAPveg-XqQW",
        "outputId": "ba454c88-18dc-4e51-ea5c-f56b4f56616d"
      },
      "source": [
        "df.shape"
      ],
      "execution_count": 3,
      "outputs": [
        {
          "output_type": "execute_result",
          "data": {
            "text/plain": [
              "(400, 5)"
            ]
          },
          "metadata": {
            "tags": []
          },
          "execution_count": 3
        }
      ]
    },
    {
      "cell_type": "code",
      "metadata": {
        "colab": {
          "base_uri": "https://localhost:8080/"
        },
        "id": "9En88rUiXsiN",
        "outputId": "5bfb2d46-8742-4303-c253-f3aced04a53f"
      },
      "source": [
        "df.duplicated().sum()"
      ],
      "execution_count": 4,
      "outputs": [
        {
          "output_type": "execute_result",
          "data": {
            "text/plain": [
              "0"
            ]
          },
          "metadata": {
            "tags": []
          },
          "execution_count": 4
        }
      ]
    },
    {
      "cell_type": "code",
      "metadata": {
        "colab": {
          "base_uri": "https://localhost:8080/"
        },
        "id": "3V7CBx2aXvZ5",
        "outputId": "29479c0c-7f25-432d-9c40-ccc5735f4c5d"
      },
      "source": [
        "df.isnull().sum()"
      ],
      "execution_count": 5,
      "outputs": [
        {
          "output_type": "execute_result",
          "data": {
            "text/plain": [
              "User ID            0\n",
              "Gender             0\n",
              "Age                0\n",
              "EstimatedSalary    0\n",
              "Purchased          0\n",
              "dtype: int64"
            ]
          },
          "metadata": {
            "tags": []
          },
          "execution_count": 5
        }
      ]
    },
    {
      "cell_type": "code",
      "metadata": {
        "colab": {
          "base_uri": "https://localhost:8080/"
        },
        "id": "xd8XBuHhXzSY",
        "outputId": "ba667ffa-212a-45f6-d028-52c16de3f822"
      },
      "source": [
        "df.dtypes"
      ],
      "execution_count": 6,
      "outputs": [
        {
          "output_type": "execute_result",
          "data": {
            "text/plain": [
              "User ID             int64\n",
              "Gender             object\n",
              "Age                 int64\n",
              "EstimatedSalary     int64\n",
              "Purchased           int64\n",
              "dtype: object"
            ]
          },
          "metadata": {
            "tags": []
          },
          "execution_count": 6
        }
      ]
    },
    {
      "cell_type": "code",
      "metadata": {
        "colab": {
          "base_uri": "https://localhost:8080/"
        },
        "id": "_udGZrntXzPZ",
        "outputId": "7acb429e-f006-4d66-a6df-92ce53d123b4"
      },
      "source": [
        "df.columns"
      ],
      "execution_count": 7,
      "outputs": [
        {
          "output_type": "execute_result",
          "data": {
            "text/plain": [
              "Index(['User ID', 'Gender', 'Age', 'EstimatedSalary', 'Purchased'], dtype='object')"
            ]
          },
          "metadata": {
            "tags": []
          },
          "execution_count": 7
        }
      ]
    },
    {
      "cell_type": "code",
      "metadata": {
        "colab": {
          "base_uri": "https://localhost:8080/",
          "height": 175
        },
        "id": "NN4GstQ8XzMt",
        "outputId": "67511a9c-c324-4af5-eb8f-254e57c43032"
      },
      "source": [
        "df.corr()"
      ],
      "execution_count": 8,
      "outputs": [
        {
          "output_type": "execute_result",
          "data": {
            "text/html": [
              "<div>\n",
              "<style scoped>\n",
              "    .dataframe tbody tr th:only-of-type {\n",
              "        vertical-align: middle;\n",
              "    }\n",
              "\n",
              "    .dataframe tbody tr th {\n",
              "        vertical-align: top;\n",
              "    }\n",
              "\n",
              "    .dataframe thead th {\n",
              "        text-align: right;\n",
              "    }\n",
              "</style>\n",
              "<table border=\"1\" class=\"dataframe\">\n",
              "  <thead>\n",
              "    <tr style=\"text-align: right;\">\n",
              "      <th></th>\n",
              "      <th>User ID</th>\n",
              "      <th>Age</th>\n",
              "      <th>EstimatedSalary</th>\n",
              "      <th>Purchased</th>\n",
              "    </tr>\n",
              "  </thead>\n",
              "  <tbody>\n",
              "    <tr>\n",
              "      <th>User ID</th>\n",
              "      <td>1.000000</td>\n",
              "      <td>-0.000721</td>\n",
              "      <td>0.071097</td>\n",
              "      <td>0.007120</td>\n",
              "    </tr>\n",
              "    <tr>\n",
              "      <th>Age</th>\n",
              "      <td>-0.000721</td>\n",
              "      <td>1.000000</td>\n",
              "      <td>0.155238</td>\n",
              "      <td>0.622454</td>\n",
              "    </tr>\n",
              "    <tr>\n",
              "      <th>EstimatedSalary</th>\n",
              "      <td>0.071097</td>\n",
              "      <td>0.155238</td>\n",
              "      <td>1.000000</td>\n",
              "      <td>0.362083</td>\n",
              "    </tr>\n",
              "    <tr>\n",
              "      <th>Purchased</th>\n",
              "      <td>0.007120</td>\n",
              "      <td>0.622454</td>\n",
              "      <td>0.362083</td>\n",
              "      <td>1.000000</td>\n",
              "    </tr>\n",
              "  </tbody>\n",
              "</table>\n",
              "</div>"
            ],
            "text/plain": [
              "                  User ID       Age  EstimatedSalary  Purchased\n",
              "User ID          1.000000 -0.000721         0.071097   0.007120\n",
              "Age             -0.000721  1.000000         0.155238   0.622454\n",
              "EstimatedSalary  0.071097  0.155238         1.000000   0.362083\n",
              "Purchased        0.007120  0.622454         0.362083   1.000000"
            ]
          },
          "metadata": {
            "tags": []
          },
          "execution_count": 8
        }
      ]
    },
    {
      "cell_type": "code",
      "metadata": {
        "colab": {
          "base_uri": "https://localhost:8080/"
        },
        "id": "1hL5cHT7XzJj",
        "outputId": "4b34a7bf-196e-468d-9fad-2bd87c5934ce"
      },
      "source": [
        "from sklearn.preprocessing import LabelEncoder\n",
        "\n",
        "le=LabelEncoder()\n",
        "\n",
        "df.Gender=le.fit_transform(df.Gender)\n",
        "df.Gender.head()"
      ],
      "execution_count": 9,
      "outputs": [
        {
          "output_type": "execute_result",
          "data": {
            "text/plain": [
              "0    1\n",
              "1    1\n",
              "2    0\n",
              "3    0\n",
              "4    1\n",
              "Name: Gender, dtype: int64"
            ]
          },
          "metadata": {
            "tags": []
          },
          "execution_count": 9
        }
      ]
    },
    {
      "cell_type": "code",
      "metadata": {
        "colab": {
          "base_uri": "https://localhost:8080/"
        },
        "id": "uEasy0XOXzFp",
        "outputId": "bcd123da-dede-4458-974e-b072a8f8bbfe"
      },
      "source": [
        "x=df.drop(['Purchased','User ID',],axis='columns')\n",
        "print(x)"
      ],
      "execution_count": 10,
      "outputs": [
        {
          "output_type": "stream",
          "text": [
            "     Gender  Age  EstimatedSalary\n",
            "0         1   19            19000\n",
            "1         1   35            20000\n",
            "2         0   26            43000\n",
            "3         0   27            57000\n",
            "4         1   19            76000\n",
            "..      ...  ...              ...\n",
            "395       0   46            41000\n",
            "396       1   51            23000\n",
            "397       0   50            20000\n",
            "398       1   36            33000\n",
            "399       0   49            36000\n",
            "\n",
            "[400 rows x 3 columns]\n"
          ],
          "name": "stdout"
        }
      ]
    },
    {
      "cell_type": "code",
      "metadata": {
        "colab": {
          "base_uri": "https://localhost:8080/"
        },
        "id": "4daxOjOVXzAW",
        "outputId": "f0290f70-af0c-4f02-b302-4496a4a91324"
      },
      "source": [
        "y=df['Purchased']\n",
        "print(y)"
      ],
      "execution_count": 11,
      "outputs": [
        {
          "output_type": "stream",
          "text": [
            "0      0\n",
            "1      0\n",
            "2      0\n",
            "3      0\n",
            "4      0\n",
            "      ..\n",
            "395    1\n",
            "396    1\n",
            "397    1\n",
            "398    0\n",
            "399    1\n",
            "Name: Purchased, Length: 400, dtype: int64\n"
          ],
          "name": "stdout"
        }
      ]
    },
    {
      "cell_type": "code",
      "metadata": {
        "id": "9QjulFs0Xy8k"
      },
      "source": [
        "from sklearn.preprocessing import StandardScaler\n",
        "\n",
        "scaler = StandardScaler()\n",
        "\n",
        "x.drop('Gender',axis=1,inplace=True)\n",
        "x=scaler.fit_transform(x)"
      ],
      "execution_count": 12,
      "outputs": []
    },
    {
      "cell_type": "code",
      "metadata": {
        "colab": {
          "base_uri": "https://localhost:8080/"
        },
        "id": "91YcePBRXy5s",
        "outputId": "31bff02e-7d80-4a53-ccf3-02ee9fd3c18a"
      },
      "source": [
        "print(x)"
      ],
      "execution_count": 13,
      "outputs": [
        {
          "output_type": "stream",
          "text": [
            "[[-1.78179743 -1.49004624]\n",
            " [-0.25358736 -1.46068138]\n",
            " [-1.11320552 -0.78528968]\n",
            " [-1.01769239 -0.37418169]\n",
            " [-1.78179743  0.18375059]\n",
            " [-1.01769239 -0.34481683]\n",
            " [-1.01769239  0.41866944]\n",
            " [-0.54012675  2.35674998]\n",
            " [-1.20871865 -1.07893824]\n",
            " [-0.25358736 -0.13926283]\n",
            " [-1.11320552  0.30121002]\n",
            " [-1.11320552 -0.52100597]\n",
            " [-1.6862843   0.47739916]\n",
            " [-0.54012675 -1.51941109]\n",
            " [-1.87731056  0.35993973]\n",
            " [-0.82666613  0.30121002]\n",
            " [ 0.89257019 -1.3138571 ]\n",
            " [ 0.70154394 -1.28449224]\n",
            " [ 0.79705706 -1.22576253]\n",
            " [ 0.98808332 -1.19639767]\n",
            " [ 0.70154394 -1.40195167]\n",
            " [ 0.89257019 -0.60910054]\n",
            " [ 0.98808332 -0.84401939]\n",
            " [ 0.70154394 -1.40195167]\n",
            " [ 0.79705706 -1.37258681]\n",
            " [ 0.89257019 -1.46068138]\n",
            " [ 1.08359645 -1.22576253]\n",
            " [ 0.89257019 -1.16703281]\n",
            " [-0.82666613 -0.78528968]\n",
            " [-0.63563988 -1.51941109]\n",
            " [-0.63563988  0.12502088]\n",
            " [-1.01769239  1.97500684]\n",
            " [-1.59077117 -1.5781408 ]\n",
            " [-0.92217926 -0.75592482]\n",
            " [-1.01769239  0.59485858]\n",
            " [-0.25358736 -1.25512738]\n",
            " [-0.44461362 -1.22576253]\n",
            " [-0.73115301 -0.60910054]\n",
            " [-1.11320552  0.06629116]\n",
            " [-1.01769239 -1.13766796]\n",
            " [-1.01769239 -1.54877595]\n",
            " [-0.44461362 -0.55037082]\n",
            " [-0.25358736  1.123426  ]\n",
            " [-0.73115301 -1.60750566]\n",
            " [-0.92217926  0.41866944]\n",
            " [-1.39974491 -1.46068138]\n",
            " [-1.20871865  0.27184516]\n",
            " [-1.01769239 -0.46227625]\n",
            " [-0.73115301  1.91627713]\n",
            " [-0.63563988  0.56549373]\n",
            " [-1.30423178 -1.1083031 ]\n",
            " [-1.87731056 -0.75592482]\n",
            " [-0.82666613  0.38930459]\n",
            " [-0.25358736 -1.37258681]\n",
            " [-1.01769239 -0.34481683]\n",
            " [-1.30423178 -0.4329114 ]\n",
            " [-1.39974491 -0.63846539]\n",
            " [-0.92217926  0.27184516]\n",
            " [-1.49525804 -1.51941109]\n",
            " [-0.54012675  1.38770971]\n",
            " [-1.01769239 -1.46068138]\n",
            " [-1.20871865  0.50676401]\n",
            " [-1.39974491 -0.10989798]\n",
            " [-0.54012675  1.47580428]\n",
            " [ 2.03872775  0.38930459]\n",
            " [-1.30423178 -0.34481683]\n",
            " [-1.30423178 -1.49004624]\n",
            " [-1.39974491  0.35993973]\n",
            " [-1.49525804 -0.19799255]\n",
            " [-0.63563988 -0.05116826]\n",
            " [-1.20871865  0.30121002]\n",
            " [-1.30423178 -1.25512738]\n",
            " [-1.6862843  -1.37258681]\n",
            " [-0.44461362  1.27025028]\n",
            " [-0.54012675 -1.51941109]\n",
            " [-0.34910049  1.24088543]\n",
            " [-1.87731056 -0.52100597]\n",
            " [-1.49525804 -1.25512738]\n",
            " [-0.92217926  0.50676401]\n",
            " [-1.11320552 -1.54877595]\n",
            " [-0.73115301  0.30121002]\n",
            " [ 0.12846516 -0.81465453]\n",
            " [-1.6862843  -0.60910054]\n",
            " [-0.25358736  0.53612887]\n",
            " [-0.73115301 -0.2273574 ]\n",
            " [-0.63563988  1.41707457]\n",
            " [-1.30423178 -0.4329114 ]\n",
            " [-0.92217926  0.4480343 ]\n",
            " [-1.11320552  0.33057487]\n",
            " [-0.25358736 -0.57973568]\n",
            " [-1.49525804  0.33057487]\n",
            " [-0.73115301  1.35834485]\n",
            " [-1.11320552 -1.60750566]\n",
            " [-0.82666613 -1.22576253]\n",
            " [-0.82666613  0.38930459]\n",
            " [-0.25358736 -0.75592482]\n",
            " [-0.25358736 -1.3138571 ]\n",
            " [-0.92217926  1.56389885]\n",
            " [-0.25358736  0.09565602]\n",
            " [-0.92217926 -0.96147882]\n",
            " [-1.01769239  0.53612887]\n",
            " [-0.92217926 -0.31545197]\n",
            " [-0.54012675  0.47739916]\n",
            " [-0.44461362  2.32738512]\n",
            " [-1.78179743 -1.43131652]\n",
            " [-1.59077117  0.06629116]\n",
            " [-1.11320552 -1.02020853]\n",
            " [-1.01769239  0.56549373]\n",
            " [-1.11320552  0.47739916]\n",
            " [ 0.03295203  0.30121002]\n",
            " [ 0.12846516  0.03692631]\n",
            " [-0.0625611   0.03692631]\n",
            " [ 0.03295203 -0.25672226]\n",
            " [-0.0625611  -0.4329114 ]\n",
            " [ 0.41500455  0.30121002]\n",
            " [ 0.22397829 -0.37418169]\n",
            " [-0.25358736  0.15438573]\n",
            " [-0.15807423 -0.52100597]\n",
            " [ 0.22397829 -0.31545197]\n",
            " [ 0.31949142 -0.31545197]\n",
            " [-0.15807423  0.15438573]\n",
            " [-0.0625611   0.06629116]\n",
            " [ 0.22397829  0.15438573]\n",
            " [-0.25358736 -0.49164111]\n",
            " [ 0.31949142 -0.55037082]\n",
            " [ 0.12846516 -0.25672226]\n",
            " [ 0.41500455 -0.13926283]\n",
            " [-1.11320552 -1.1083031 ]\n",
            " [-0.73115301 -1.54877595]\n",
            " [-1.11320552  0.41866944]\n",
            " [-0.63563988 -0.34481683]\n",
            " [-0.44461362 -1.13766796]\n",
            " [-0.73115301  0.50676401]\n",
            " [-1.59077117 -0.05116826]\n",
            " [-0.92217926 -0.4329114 ]\n",
            " [-1.39974491 -0.19799255]\n",
            " [-1.6862843   0.35993973]\n",
            " [-0.73115301  1.09406114]\n",
            " [-0.92217926 -0.31545197]\n",
            " [-1.78179743 -1.3138571 ]\n",
            " [-1.78179743  0.4480343 ]\n",
            " [-1.87731056 -0.05116826]\n",
            " [-0.25358736 -0.31545197]\n",
            " [-0.73115301  0.56549373]\n",
            " [-0.34910049 -1.3138571 ]\n",
            " [-1.30423178  0.56549373]\n",
            " [-1.01769239  0.77104772]\n",
            " [ 0.31949142 -1.16703281]\n",
            " [-0.82666613 -0.25672226]\n",
            " [-1.6862843   0.12502088]\n",
            " [-1.11320552 -1.60750566]\n",
            " [ 0.31949142 -0.72655996]\n",
            " [-0.63563988  0.18375059]\n",
            " [-0.15807423 -0.57973568]\n",
            " [ 0.22397829 -0.66783025]\n",
            " [-0.63563988 -1.60750566]\n",
            " [ 0.79705706 -0.31545197]\n",
            " [-0.82666613  0.15438573]\n",
            " [-1.11320552 -1.16703281]\n",
            " [-0.54012675  1.91627713]\n",
            " [-0.54012675  0.88850715]\n",
            " [-1.20871865  0.59485858]\n",
            " [-0.0625611  -1.07893824]\n",
            " [-0.25358736 -0.93211396]\n",
            " [-0.44461362 -0.02180341]\n",
            " [-1.87731056  0.47739916]\n",
            " [-1.49525804 -0.4329114 ]\n",
            " [-0.25358736  0.03692631]\n",
            " [-0.82666613  2.29802026]\n",
            " [-0.82666613 -0.66783025]\n",
            " [-1.59077117  0.53612887]\n",
            " [-0.34910049  1.32898   ]\n",
            " [-1.11320552  1.41707457]\n",
            " [-0.34910049 -0.78528968]\n",
            " [-0.34910049  0.06629116]\n",
            " [-1.39974491 -1.22576253]\n",
            " [-0.25358736 -0.66783025]\n",
            " [-1.20871865 -1.40195167]\n",
            " [-1.30423178 -1.37258681]\n",
            " [-0.63563988 -1.04957339]\n",
            " [-1.11320552 -1.5781408 ]\n",
            " [-0.63563988  0.03692631]\n",
            " [-0.54012675  1.38770971]\n",
            " [-0.44461362 -0.78528968]\n",
            " [-0.44461362 -0.28608712]\n",
            " [-0.63563988 -0.10989798]\n",
            " [-1.6862843   0.35993973]\n",
            " [-0.44461362 -0.84401939]\n",
            " [-0.25358736  0.06629116]\n",
            " [-0.92217926 -1.1083031 ]\n",
            " [-1.30423178  0.41866944]\n",
            " [-1.78179743 -1.28449224]\n",
            " [-0.82666613 -0.78528968]\n",
            " [-1.78179743  0.00756145]\n",
            " [-0.92217926  0.56549373]\n",
            " [-0.34910049 -0.78528968]\n",
            " [-0.73115301  0.27184516]\n",
            " [-1.6862843  -0.99084367]\n",
            " [-1.11320552  0.30121002]\n",
            " [-0.25358736 -1.40195167]\n",
            " [-0.25358736 -0.9027491 ]\n",
            " [ 1.08359645  0.12502088]\n",
            " [ 0.12846516  1.88691227]\n",
            " [ 0.31949142  0.03692631]\n",
            " [ 1.94321462  0.917872  ]\n",
            " [ 0.89257019 -0.66783025]\n",
            " [ 1.65667523  1.76945285]\n",
            " [ 1.37013584  1.29961514]\n",
            " [ 0.22397829  2.12183112]\n",
            " [ 0.79705706 -1.40195167]\n",
            " [ 0.98808332  0.77104772]\n",
            " [ 1.37013584  2.35674998]\n",
            " [ 2.03872775 -0.81465453]\n",
            " [-0.25358736 -0.34481683]\n",
            " [ 0.89257019 -0.78528968]\n",
            " [ 2.13424088  1.123426  ]\n",
            " [ 1.08359645 -0.13926283]\n",
            " [ 0.22397829  0.2424803 ]\n",
            " [ 0.79705706  0.77104772]\n",
            " [ 2.03872775  2.15119598]\n",
            " [ 0.31949142  0.30121002]\n",
            " [-0.25358736  0.62422344]\n",
            " [-0.0625611   2.18056084]\n",
            " [ 2.13424088  0.94723686]\n",
            " [-0.25358736 -0.28608712]\n",
            " [-0.0625611  -0.49164111]\n",
            " [-0.15807423  1.65199342]\n",
            " [ 1.75218836  1.85754742]\n",
            " [ 0.22397829  0.06629116]\n",
            " [ 0.41500455  0.30121002]\n",
            " [-0.25358736  2.26865541]\n",
            " [ 0.12846516 -0.81465453]\n",
            " [ 0.22397829  1.09406114]\n",
            " [ 1.08359645  0.47739916]\n",
            " [ 0.03295203  1.24088543]\n",
            " [ 0.79705706  0.27184516]\n",
            " [ 0.22397829 -0.37418169]\n",
            " [-0.0625611   0.30121002]\n",
            " [ 0.79705706  0.35993973]\n",
            " [ 1.46564897  2.15119598]\n",
            " [ 0.41500455  2.32738512]\n",
            " [ 0.03295203 -0.31545197]\n",
            " [ 1.17910958  0.53612887]\n",
            " [ 1.75218836  1.00596657]\n",
            " [ 0.31949142  0.06629116]\n",
            " [ 1.27462271  2.23929055]\n",
            " [-0.25358736 -0.57973568]\n",
            " [ 1.84770149  1.53453399]\n",
            " [ 0.31949142 -0.52100597]\n",
            " [-0.25358736  0.80041258]\n",
            " [ 0.60603081 -0.9027491 ]\n",
            " [-0.0625611  -0.52100597]\n",
            " [ 0.98808332  1.88691227]\n",
            " [-0.0625611   2.23929055]\n",
            " [ 1.17910958 -0.75592482]\n",
            " [ 1.37013584  0.59485858]\n",
            " [ 0.31949142  0.06629116]\n",
            " [ 0.22397829 -0.37418169]\n",
            " [ 1.94321462  0.74168287]\n",
            " [ 0.70154394  1.7988177 ]\n",
            " [-0.25358736  0.21311545]\n",
            " [-0.15807423  2.18056084]\n",
            " [ 1.65667523  1.62262856]\n",
            " [-0.25358736  0.06629116]\n",
            " [ 0.98808332  0.59485858]\n",
            " [ 0.41500455  1.123426  ]\n",
            " [ 0.22397829  0.15438573]\n",
            " [-0.0625611   0.12502088]\n",
            " [ 0.89257019  2.18056084]\n",
            " [ 0.22397829 -0.25672226]\n",
            " [ 0.51051768  1.85754742]\n",
            " [ 2.03872775  0.18375059]\n",
            " [ 2.13424088 -0.81465453]\n",
            " [ 0.12846516  1.06469629]\n",
            " [ 1.84770149 -1.28449224]\n",
            " [ 1.84770149  0.12502088]\n",
            " [ 0.03295203  0.03692631]\n",
            " [ 1.08359645  0.53612887]\n",
            " [ 1.37013584 -0.93211396]\n",
            " [ 1.17910958 -0.99084367]\n",
            " [ 2.03872775  0.53612887]\n",
            " [-0.25358736 -0.25672226]\n",
            " [-0.0625611   0.00756145]\n",
            " [ 1.37013584 -1.43131652]\n",
            " [ 0.98808332  2.09246627]\n",
            " [-0.0625611   0.68295315]\n",
            " [-0.0625611  -0.2273574 ]\n",
            " [ 0.98808332  2.0043717 ]\n",
            " [ 0.31949142  0.27184516]\n",
            " [-0.0625611   0.2424803 ]\n",
            " [ 0.12846516  1.88691227]\n",
            " [ 1.08359645  0.56549373]\n",
            " [ 1.65667523 -0.9027491 ]\n",
            " [-0.0625611   0.21311545]\n",
            " [-0.25358736 -0.37418169]\n",
            " [-0.15807423 -0.19799255]\n",
            " [ 0.41500455  0.09565602]\n",
            " [ 0.51051768  1.24088543]\n",
            " [ 0.70154394  0.27184516]\n",
            " [ 0.79705706  1.38770971]\n",
            " [ 1.94321462 -0.93211396]\n",
            " [ 0.98808332  0.12502088]\n",
            " [-0.0625611   1.97500684]\n",
            " [-0.0625611   0.27184516]\n",
            " [ 0.22397829 -0.28608712]\n",
            " [ 0.41500455 -0.46227625]\n",
            " [ 1.27462271  1.88691227]\n",
            " [ 0.89257019  1.27025028]\n",
            " [-0.15807423  1.62262856]\n",
            " [ 0.03295203 -0.57973568]\n",
            " [ 0.41500455  0.00756145]\n",
            " [ 0.12846516  0.77104772]\n",
            " [ 0.03295203 -0.57973568]\n",
            " [ 1.08359645  2.09246627]\n",
            " [ 0.12846516  0.27184516]\n",
            " [ 0.12846516  0.15438573]\n",
            " [ 1.5611621   1.00596657]\n",
            " [-0.25358736 -0.4329114 ]\n",
            " [ 0.70154394 -1.1083031 ]\n",
            " [-0.15807423 -0.28608712]\n",
            " [ 1.37013584  2.0043717 ]\n",
            " [ 1.46564897  0.35993973]\n",
            " [ 0.31949142 -0.52100597]\n",
            " [ 0.98808332 -1.16703281]\n",
            " [ 0.98808332  1.7988177 ]\n",
            " [ 0.31949142 -0.28608712]\n",
            " [ 0.31949142  0.06629116]\n",
            " [ 0.41500455  0.15438573]\n",
            " [-0.15807423  1.41707457]\n",
            " [ 0.89257019  1.09406114]\n",
            " [ 0.03295203 -0.55037082]\n",
            " [ 0.98808332  1.44643942]\n",
            " [ 0.41500455 -0.13926283]\n",
            " [ 0.22397829 -0.13926283]\n",
            " [ 1.84770149 -0.28608712]\n",
            " [-0.15807423 -0.46227625]\n",
            " [ 1.94321462  2.18056084]\n",
            " [-0.25358736  0.27184516]\n",
            " [ 0.03295203 -0.4329114 ]\n",
            " [ 0.12846516  1.53453399]\n",
            " [ 1.46564897  1.00596657]\n",
            " [-0.25358736  0.15438573]\n",
            " [ 0.03295203 -0.13926283]\n",
            " [ 0.89257019 -0.55037082]\n",
            " [ 0.89257019  1.03533143]\n",
            " [ 0.31949142 -0.19799255]\n",
            " [ 1.46564897  0.06629116]\n",
            " [ 1.5611621   1.123426  ]\n",
            " [ 0.12846516  0.21311545]\n",
            " [ 0.03295203 -0.25672226]\n",
            " [ 0.03295203  1.27025028]\n",
            " [-0.0625611   0.15438573]\n",
            " [ 0.41500455  0.59485858]\n",
            " [-0.0625611  -0.37418169]\n",
            " [-0.15807423  0.85914229]\n",
            " [ 2.13424088 -1.04957339]\n",
            " [ 1.5611621   0.00756145]\n",
            " [ 0.31949142  0.06629116]\n",
            " [ 0.22397829  0.03692631]\n",
            " [ 0.41500455 -0.46227625]\n",
            " [ 0.51051768  1.74008799]\n",
            " [ 1.46564897 -1.04957339]\n",
            " [ 0.89257019 -0.57973568]\n",
            " [ 0.41500455  0.27184516]\n",
            " [ 0.41500455  1.00596657]\n",
            " [ 2.03872775 -1.19639767]\n",
            " [ 1.94321462 -0.66783025]\n",
            " [ 0.79705706  0.53612887]\n",
            " [ 0.03295203  0.03692631]\n",
            " [ 1.5611621  -1.28449224]\n",
            " [ 2.13424088 -0.69719511]\n",
            " [ 2.13424088  0.38930459]\n",
            " [ 0.12846516  0.09565602]\n",
            " [ 2.03872775  1.76945285]\n",
            " [-0.0625611   0.30121002]\n",
            " [ 0.79705706 -1.1083031 ]\n",
            " [ 0.79705706  0.12502088]\n",
            " [ 0.41500455 -0.49164111]\n",
            " [ 0.31949142  0.50676401]\n",
            " [ 1.94321462 -1.37258681]\n",
            " [ 0.41500455 -0.16862769]\n",
            " [ 0.98808332 -1.07893824]\n",
            " [ 0.60603081  2.03373655]\n",
            " [ 1.08359645 -1.22576253]\n",
            " [ 1.84770149 -1.07893824]\n",
            " [ 1.75218836 -0.28608712]\n",
            " [ 1.08359645 -0.9027491 ]\n",
            " [ 0.12846516  0.03692631]\n",
            " [ 0.89257019 -1.04957339]\n",
            " [ 0.98808332 -1.02020853]\n",
            " [ 0.98808332 -1.07893824]\n",
            " [ 0.89257019 -1.37258681]\n",
            " [ 0.70154394 -0.72655996]\n",
            " [ 2.13424088 -0.81465453]\n",
            " [ 0.12846516 -0.31545197]\n",
            " [ 0.79705706 -0.84401939]\n",
            " [ 1.27462271 -1.37258681]\n",
            " [ 1.17910958 -1.46068138]\n",
            " [-0.15807423 -1.07893824]\n",
            " [ 1.08359645 -0.99084367]]\n"
          ],
          "name": "stdout"
        }
      ]
    },
    {
      "cell_type": "code",
      "metadata": {
        "colab": {
          "base_uri": "https://localhost:8080/",
          "height": 353
        },
        "id": "6E6snTkKXy2E",
        "outputId": "f6392da0-5aa1-4c28-b2e8-1cd9136209b9"
      },
      "source": [
        "sns.heatmap(df.corr(),annot=True)\n",
        "plt.title('Correlation')\n",
        "plt.show()"
      ],
      "execution_count": 14,
      "outputs": [
        {
          "output_type": "display_data",
          "data": {
            "image/png": "[encoded data removed]",
            "text/plain": [
              "<Figure size 432x288 with 2 Axes>"
            ]
          },
          "metadata": {
            "tags": [],
            "needs_background": "light"
          }
        }
      ]
    },
    {
      "cell_type": "code",
      "metadata": {
        "colab": {
          "base_uri": "https://localhost:8080/",
          "height": 359
        },
        "id": "wziZnXStXyyo",
        "outputId": "5242de13-30ee-43ee-f2c0-19e5880e92d6"
      },
      "source": [
        "sns.heatmap(df.isnull(),yticklabels=False)"
      ],
      "execution_count": 15,
      "outputs": [
        {
          "output_type": "execute_result",
          "data": {
            "text/plain": [
              "<matplotlib.axes._subplots.AxesSubplot at 0x7f5bf7bc50d0>"
            ]
          },
          "metadata": {
            "tags": []
          },
          "execution_count": 15
        },
        {
          "output_type": "display_data",
          "data": {
            "image/png": "[encoded data removed]",
            "text/plain": [
              "<Figure size 432x288 with 2 Axes>"
            ]
          },
          "metadata": {
            "tags": [],
            "needs_background": "light"
          }
        }
      ]
    },
    {
      "cell_type": "code",
      "metadata": {
        "colab": {
          "base_uri": "https://localhost:8080/",
          "height": 297
        },
        "id": "5F-bO-RxXyvQ",
        "outputId": "8dddea44-4747-4bcd-9383-0630ab88ed0b"
      },
      "source": [
        "sns.set_style('whitegrid')\n",
        "sns.countplot(x='Purchased',hue='Gender',data=df)"
      ],
      "execution_count": 16,
      "outputs": [
        {
          "output_type": "execute_result",
          "data": {
            "text/plain": [
              "<matplotlib.axes._subplots.AxesSubplot at 0x7f5bf7421850>"
            ]
          },
          "metadata": {
            "tags": []
          },
          "execution_count": 16
        },
        {
          "output_type": "display_data",
          "data": {
            "image/png": "[encoded data removed]",
            "text/plain": [
              "<Figure size 432x288 with 1 Axes>"
            ]
          },
          "metadata": {
            "tags": []
          }
        }
      ]
    },
    {
      "cell_type": "code",
      "metadata": {
        "colab": {
          "base_uri": "https://localhost:8080/",
          "height": 568
        },
        "id": "xBYLLd2GXype",
        "outputId": "841de066-a6bf-4fd3-ae56-0c27440c1a53"
      },
      "source": [
        "sns.pairplot(df,hue='Gender',vars=['Age','Purchased','EstimatedSalary'],palette='gist_rainbow')"
      ],
      "execution_count": 17,
      "outputs": [
        {
          "output_type": "execute_result",
          "data": {
            "text/plain": [
              "<seaborn.axisgrid.PairGrid at 0x7f5bf7695c10>"
            ]
          },
          "metadata": {
            "tags": []
          },
          "execution_count": 17
        },
        {
          "output_type": "display_data",
          "data": {
            "image/png": "[encoded data removed]",
            "text/plain": [
              "<Figure size 584.875x540 with 12 Axes>"
            ]
          },
          "metadata": {
            "tags": []
          }
        }
      ]
    },
    {
      "cell_type": "code",
      "metadata": {
        "colab": {
          "base_uri": "https://localhost:8080/"
        },
        "id": "JFe0f3WjXyij",
        "outputId": "5670c0b3-9909-4854-e330-c58c3897bb2c"
      },
      "source": [
        "max_threshold=df['Age'].quantile(0.95)\n",
        "print(max_threshold)"
      ],
      "execution_count": 18,
      "outputs": [
        {
          "output_type": "stream",
          "text": [
            "57.049999999999955\n"
          ],
          "name": "stdout"
        }
      ]
    },
    {
      "cell_type": "code",
      "metadata": {
        "colab": {
          "base_uri": "https://localhost:8080/"
        },
        "id": "pQEN89eSXyfQ",
        "outputId": "f77216af-72a6-4749-c609-1f0e1389b8b9"
      },
      "source": [
        "min_threshold=df['Age'].quantile(0.05)\n",
        "print(min_threshold)"
      ],
      "execution_count": 19,
      "outputs": [
        {
          "output_type": "stream",
          "text": [
            "21.0\n"
          ],
          "name": "stdout"
        }
      ]
    },
    {
      "cell_type": "code",
      "metadata": {
        "colab": {
          "base_uri": "https://localhost:8080/",
          "height": 675
        },
        "id": "4eeXXFLrXya3",
        "outputId": "eaa78300-183e-4012-e85a-0fc84a64e9e4"
      },
      "source": [
        "df[df['Age']>max_threshold]"
      ],
      "execution_count": 20,
      "outputs": [
        {
          "output_type": "execute_result",
          "data": {
            "text/html": [
              "<div>\n",
              "<style scoped>\n",
              "    .dataframe tbody tr th:only-of-type {\n",
              "        vertical-align: middle;\n",
              "    }\n",
              "\n",
              "    .dataframe tbody tr th {\n",
              "        vertical-align: top;\n",
              "    }\n",
              "\n",
              "    .dataframe thead th {\n",
              "        text-align: right;\n",
              "    }\n",
              "</style>\n",
              "<table border=\"1\" class=\"dataframe\">\n",
              "  <thead>\n",
              "    <tr style=\"text-align: right;\">\n",
              "      <th></th>\n",
              "      <th>User ID</th>\n",
              "      <th>Gender</th>\n",
              "      <th>Age</th>\n",
              "      <th>EstimatedSalary</th>\n",
              "      <th>Purchased</th>\n",
              "    </tr>\n",
              "  </thead>\n",
              "  <tbody>\n",
              "    <tr>\n",
              "      <th>64</th>\n",
              "      <td>15605000</td>\n",
              "      <td>0</td>\n",
              "      <td>59</td>\n",
              "      <td>83000</td>\n",
              "      <td>0</td>\n",
              "    </tr>\n",
              "    <tr>\n",
              "      <th>204</th>\n",
              "      <td>15660866</td>\n",
              "      <td>0</td>\n",
              "      <td>58</td>\n",
              "      <td>101000</td>\n",
              "      <td>1</td>\n",
              "    </tr>\n",
              "    <tr>\n",
              "      <th>212</th>\n",
              "      <td>15707596</td>\n",
              "      <td>0</td>\n",
              "      <td>59</td>\n",
              "      <td>42000</td>\n",
              "      <td>0</td>\n",
              "    </tr>\n",
              "    <tr>\n",
              "      <th>215</th>\n",
              "      <td>15779529</td>\n",
              "      <td>0</td>\n",
              "      <td>60</td>\n",
              "      <td>108000</td>\n",
              "      <td>1</td>\n",
              "    </tr>\n",
              "    <tr>\n",
              "      <th>219</th>\n",
              "      <td>15732987</td>\n",
              "      <td>1</td>\n",
              "      <td>59</td>\n",
              "      <td>143000</td>\n",
              "      <td>1</td>\n",
              "    </tr>\n",
              "    <tr>\n",
              "      <th>223</th>\n",
              "      <td>15593715</td>\n",
              "      <td>1</td>\n",
              "      <td>60</td>\n",
              "      <td>102000</td>\n",
              "      <td>1</td>\n",
              "    </tr>\n",
              "    <tr>\n",
              "      <th>258</th>\n",
              "      <td>15569641</td>\n",
              "      <td>0</td>\n",
              "      <td>58</td>\n",
              "      <td>95000</td>\n",
              "      <td>1</td>\n",
              "    </tr>\n",
              "    <tr>\n",
              "      <th>271</th>\n",
              "      <td>15688172</td>\n",
              "      <td>0</td>\n",
              "      <td>59</td>\n",
              "      <td>76000</td>\n",
              "      <td>1</td>\n",
              "    </tr>\n",
              "    <tr>\n",
              "      <th>272</th>\n",
              "      <td>15791373</td>\n",
              "      <td>1</td>\n",
              "      <td>60</td>\n",
              "      <td>42000</td>\n",
              "      <td>1</td>\n",
              "    </tr>\n",
              "    <tr>\n",
              "      <th>280</th>\n",
              "      <td>15609669</td>\n",
              "      <td>0</td>\n",
              "      <td>59</td>\n",
              "      <td>88000</td>\n",
              "      <td>1</td>\n",
              "    </tr>\n",
              "    <tr>\n",
              "      <th>300</th>\n",
              "      <td>15736397</td>\n",
              "      <td>0</td>\n",
              "      <td>58</td>\n",
              "      <td>38000</td>\n",
              "      <td>1</td>\n",
              "    </tr>\n",
              "    <tr>\n",
              "      <th>336</th>\n",
              "      <td>15664907</td>\n",
              "      <td>1</td>\n",
              "      <td>58</td>\n",
              "      <td>144000</td>\n",
              "      <td>1</td>\n",
              "    </tr>\n",
              "    <tr>\n",
              "      <th>355</th>\n",
              "      <td>15606472</td>\n",
              "      <td>1</td>\n",
              "      <td>60</td>\n",
              "      <td>34000</td>\n",
              "      <td>1</td>\n",
              "    </tr>\n",
              "    <tr>\n",
              "      <th>365</th>\n",
              "      <td>15807525</td>\n",
              "      <td>0</td>\n",
              "      <td>59</td>\n",
              "      <td>29000</td>\n",
              "      <td>1</td>\n",
              "    </tr>\n",
              "    <tr>\n",
              "      <th>366</th>\n",
              "      <td>15574372</td>\n",
              "      <td>0</td>\n",
              "      <td>58</td>\n",
              "      <td>47000</td>\n",
              "      <td>1</td>\n",
              "    </tr>\n",
              "    <tr>\n",
              "      <th>370</th>\n",
              "      <td>15611430</td>\n",
              "      <td>0</td>\n",
              "      <td>60</td>\n",
              "      <td>46000</td>\n",
              "      <td>1</td>\n",
              "    </tr>\n",
              "    <tr>\n",
              "      <th>371</th>\n",
              "      <td>15774744</td>\n",
              "      <td>1</td>\n",
              "      <td>60</td>\n",
              "      <td>83000</td>\n",
              "      <td>1</td>\n",
              "    </tr>\n",
              "    <tr>\n",
              "      <th>373</th>\n",
              "      <td>15708791</td>\n",
              "      <td>1</td>\n",
              "      <td>59</td>\n",
              "      <td>130000</td>\n",
              "      <td>1</td>\n",
              "    </tr>\n",
              "    <tr>\n",
              "      <th>379</th>\n",
              "      <td>15749381</td>\n",
              "      <td>0</td>\n",
              "      <td>58</td>\n",
              "      <td>23000</td>\n",
              "      <td>1</td>\n",
              "    </tr>\n",
              "    <tr>\n",
              "      <th>393</th>\n",
              "      <td>15635893</td>\n",
              "      <td>1</td>\n",
              "      <td>60</td>\n",
              "      <td>42000</td>\n",
              "      <td>1</td>\n",
              "    </tr>\n",
              "  </tbody>\n",
              "</table>\n",
              "</div>"
            ],
            "text/plain": [
              "      User ID  Gender  Age  EstimatedSalary  Purchased\n",
              "64   15605000       0   59            83000          0\n",
              "204  15660866       0   58           101000          1\n",
              "212  15707596       0   59            42000          0\n",
              "215  15779529       0   60           108000          1\n",
              "219  15732987       1   59           143000          1\n",
              "223  15593715       1   60           102000          1\n",
              "258  15569641       0   58            95000          1\n",
              "271  15688172       0   59            76000          1\n",
              "272  15791373       1   60            42000          1\n",
              "280  15609669       0   59            88000          1\n",
              "300  15736397       0   58            38000          1\n",
              "336  15664907       1   58           144000          1\n",
              "355  15606472       1   60            34000          1\n",
              "365  15807525       0   59            29000          1\n",
              "366  15574372       0   58            47000          1\n",
              "370  15611430       0   60            46000          1\n",
              "371  15774744       1   60            83000          1\n",
              "373  15708791       1   59           130000          1\n",
              "379  15749381       0   58            23000          1\n",
              "393  15635893       1   60            42000          1"
            ]
          },
          "metadata": {
            "tags": []
          },
          "execution_count": 20
        }
      ]
    },
    {
      "cell_type": "code",
      "metadata": {
        "colab": {
          "base_uri": "https://localhost:8080/",
          "height": 675
        },
        "id": "tezYeWTPYoII",
        "outputId": "9779f7fa-0025-479a-9830-cf912f073aae"
      },
      "source": [
        "df[df['Age']>max_threshold]"
      ],
      "execution_count": 21,
      "outputs": [
        {
          "output_type": "execute_result",
          "data": {
            "text/html": [
              "<div>\n",
              "<style scoped>\n",
              "    .dataframe tbody tr th:only-of-type {\n",
              "        vertical-align: middle;\n",
              "    }\n",
              "\n",
              "    .dataframe tbody tr th {\n",
              "        vertical-align: top;\n",
              "    }\n",
              "\n",
              "    .dataframe thead th {\n",
              "        text-align: right;\n",
              "    }\n",
              "</style>\n",
              "<table border=\"1\" class=\"dataframe\">\n",
              "  <thead>\n",
              "    <tr style=\"text-align: right;\">\n",
              "      <th></th>\n",
              "      <th>User ID</th>\n",
              "      <th>Gender</th>\n",
              "      <th>Age</th>\n",
              "      <th>EstimatedSalary</th>\n",
              "      <th>Purchased</th>\n",
              "    </tr>\n",
              "  </thead>\n",
              "  <tbody>\n",
              "    <tr>\n",
              "      <th>64</th>\n",
              "      <td>15605000</td>\n",
              "      <td>0</td>\n",
              "      <td>59</td>\n",
              "      <td>83000</td>\n",
              "      <td>0</td>\n",
              "    </tr>\n",
              "    <tr>\n",
              "      <th>204</th>\n",
              "      <td>15660866</td>\n",
              "      <td>0</td>\n",
              "      <td>58</td>\n",
              "      <td>101000</td>\n",
              "      <td>1</td>\n",
              "    </tr>\n",
              "    <tr>\n",
              "      <th>212</th>\n",
              "      <td>15707596</td>\n",
              "      <td>0</td>\n",
              "      <td>59</td>\n",
              "      <td>42000</td>\n",
              "      <td>0</td>\n",
              "    </tr>\n",
              "    <tr>\n",
              "      <th>215</th>\n",
              "      <td>15779529</td>\n",
              "      <td>0</td>\n",
              "      <td>60</td>\n",
              "      <td>108000</td>\n",
              "      <td>1</td>\n",
              "    </tr>\n",
              "    <tr>\n",
              "      <th>219</th>\n",
              "      <td>15732987</td>\n",
              "      <td>1</td>\n",
              "      <td>59</td>\n",
              "      <td>143000</td>\n",
              "      <td>1</td>\n",
              "    </tr>\n",
              "    <tr>\n",
              "      <th>223</th>\n",
              "      <td>15593715</td>\n",
              "      <td>1</td>\n",
              "      <td>60</td>\n",
              "      <td>102000</td>\n",
              "      <td>1</td>\n",
              "    </tr>\n",
              "    <tr>\n",
              "      <th>258</th>\n",
              "      <td>15569641</td>\n",
              "      <td>0</td>\n",
              "      <td>58</td>\n",
              "      <td>95000</td>\n",
              "      <td>1</td>\n",
              "    </tr>\n",
              "    <tr>\n",
              "      <th>271</th>\n",
              "      <td>15688172</td>\n",
              "      <td>0</td>\n",
              "      <td>59</td>\n",
              "      <td>76000</td>\n",
              "      <td>1</td>\n",
              "    </tr>\n",
              "    <tr>\n",
              "      <th>272</th>\n",
              "      <td>15791373</td>\n",
              "      <td>1</td>\n",
              "      <td>60</td>\n",
              "      <td>42000</td>\n",
              "      <td>1</td>\n",
              "    </tr>\n",
              "    <tr>\n",
              "      <th>280</th>\n",
              "      <td>15609669</td>\n",
              "      <td>0</td>\n",
              "      <td>59</td>\n",
              "      <td>88000</td>\n",
              "      <td>1</td>\n",
              "    </tr>\n",
              "    <tr>\n",
              "      <th>300</th>\n",
              "      <td>15736397</td>\n",
              "      <td>0</td>\n",
              "      <td>58</td>\n",
              "      <td>38000</td>\n",
              "      <td>1</td>\n",
              "    </tr>\n",
              "    <tr>\n",
              "      <th>336</th>\n",
              "      <td>15664907</td>\n",
              "      <td>1</td>\n",
              "      <td>58</td>\n",
              "      <td>144000</td>\n",
              "      <td>1</td>\n",
              "    </tr>\n",
              "    <tr>\n",
              "      <th>355</th>\n",
              "      <td>15606472</td>\n",
              "      <td>1</td>\n",
              "      <td>60</td>\n",
              "      <td>34000</td>\n",
              "      <td>1</td>\n",
              "    </tr>\n",
              "    <tr>\n",
              "      <th>365</th>\n",
              "      <td>15807525</td>\n",
              "      <td>0</td>\n",
              "      <td>59</td>\n",
              "      <td>29000</td>\n",
              "      <td>1</td>\n",
              "    </tr>\n",
              "    <tr>\n",
              "      <th>366</th>\n",
              "      <td>15574372</td>\n",
              "      <td>0</td>\n",
              "      <td>58</td>\n",
              "      <td>47000</td>\n",
              "      <td>1</td>\n",
              "    </tr>\n",
              "    <tr>\n",
              "      <th>370</th>\n",
              "      <td>15611430</td>\n",
              "      <td>0</td>\n",
              "      <td>60</td>\n",
              "      <td>46000</td>\n",
              "      <td>1</td>\n",
              "    </tr>\n",
              "    <tr>\n",
              "      <th>371</th>\n",
              "      <td>15774744</td>\n",
              "      <td>1</td>\n",
              "      <td>60</td>\n",
              "      <td>83000</td>\n",
              "      <td>1</td>\n",
              "    </tr>\n",
              "    <tr>\n",
              "      <th>373</th>\n",
              "      <td>15708791</td>\n",
              "      <td>1</td>\n",
              "      <td>59</td>\n",
              "      <td>130000</td>\n",
              "      <td>1</td>\n",
              "    </tr>\n",
              "    <tr>\n",
              "      <th>379</th>\n",
              "      <td>15749381</td>\n",
              "      <td>0</td>\n",
              "      <td>58</td>\n",
              "      <td>23000</td>\n",
              "      <td>1</td>\n",
              "    </tr>\n",
              "    <tr>\n",
              "      <th>393</th>\n",
              "      <td>15635893</td>\n",
              "      <td>1</td>\n",
              "      <td>60</td>\n",
              "      <td>42000</td>\n",
              "      <td>1</td>\n",
              "    </tr>\n",
              "  </tbody>\n",
              "</table>\n",
              "</div>"
            ],
            "text/plain": [
              "      User ID  Gender  Age  EstimatedSalary  Purchased\n",
              "64   15605000       0   59            83000          0\n",
              "204  15660866       0   58           101000          1\n",
              "212  15707596       0   59            42000          0\n",
              "215  15779529       0   60           108000          1\n",
              "219  15732987       1   59           143000          1\n",
              "223  15593715       1   60           102000          1\n",
              "258  15569641       0   58            95000          1\n",
              "271  15688172       0   59            76000          1\n",
              "272  15791373       1   60            42000          1\n",
              "280  15609669       0   59            88000          1\n",
              "300  15736397       0   58            38000          1\n",
              "336  15664907       1   58           144000          1\n",
              "355  15606472       1   60            34000          1\n",
              "365  15807525       0   59            29000          1\n",
              "366  15574372       0   58            47000          1\n",
              "370  15611430       0   60            46000          1\n",
              "371  15774744       1   60            83000          1\n",
              "373  15708791       1   59           130000          1\n",
              "379  15749381       0   58            23000          1\n",
              "393  15635893       1   60            42000          1"
            ]
          },
          "metadata": {
            "tags": []
          },
          "execution_count": 21
        }
      ]
    },
    {
      "cell_type": "code",
      "metadata": {
        "colab": {
          "base_uri": "https://localhost:8080/",
          "height": 675
        },
        "id": "z0BYThhrYrkQ",
        "outputId": "507f023d-f677-489a-c3ff-489725d507ca"
      },
      "source": [
        "df[df['Age']>max_threshold]"
      ],
      "execution_count": 22,
      "outputs": [
        {
          "output_type": "execute_result",
          "data": {
            "text/html": [
              "<div>\n",
              "<style scoped>\n",
              "    .dataframe tbody tr th:only-of-type {\n",
              "        vertical-align: middle;\n",
              "    }\n",
              "\n",
              "    .dataframe tbody tr th {\n",
              "        vertical-align: top;\n",
              "    }\n",
              "\n",
              "    .dataframe thead th {\n",
              "        text-align: right;\n",
              "    }\n",
              "</style>\n",
              "<table border=\"1\" class=\"dataframe\">\n",
              "  <thead>\n",
              "    <tr style=\"text-align: right;\">\n",
              "      <th></th>\n",
              "      <th>User ID</th>\n",
              "      <th>Gender</th>\n",
              "      <th>Age</th>\n",
              "      <th>EstimatedSalary</th>\n",
              "      <th>Purchased</th>\n",
              "    </tr>\n",
              "  </thead>\n",
              "  <tbody>\n",
              "    <tr>\n",
              "      <th>64</th>\n",
              "      <td>15605000</td>\n",
              "      <td>0</td>\n",
              "      <td>59</td>\n",
              "      <td>83000</td>\n",
              "      <td>0</td>\n",
              "    </tr>\n",
              "    <tr>\n",
              "      <th>204</th>\n",
              "      <td>15660866</td>\n",
              "      <td>0</td>\n",
              "      <td>58</td>\n",
              "      <td>101000</td>\n",
              "      <td>1</td>\n",
              "    </tr>\n",
              "    <tr>\n",
              "      <th>212</th>\n",
              "      <td>15707596</td>\n",
              "      <td>0</td>\n",
              "      <td>59</td>\n",
              "      <td>42000</td>\n",
              "      <td>0</td>\n",
              "    </tr>\n",
              "    <tr>\n",
              "      <th>215</th>\n",
              "      <td>15779529</td>\n",
              "      <td>0</td>\n",
              "      <td>60</td>\n",
              "      <td>108000</td>\n",
              "      <td>1</td>\n",
              "    </tr>\n",
              "    <tr>\n",
              "      <th>219</th>\n",
              "      <td>15732987</td>\n",
              "      <td>1</td>\n",
              "      <td>59</td>\n",
              "      <td>143000</td>\n",
              "      <td>1</td>\n",
              "    </tr>\n",
              "    <tr>\n",
              "      <th>223</th>\n",
              "      <td>15593715</td>\n",
              "      <td>1</td>\n",
              "      <td>60</td>\n",
              "      <td>102000</td>\n",
              "      <td>1</td>\n",
              "    </tr>\n",
              "    <tr>\n",
              "      <th>258</th>\n",
              "      <td>15569641</td>\n",
              "      <td>0</td>\n",
              "      <td>58</td>\n",
              "      <td>95000</td>\n",
              "      <td>1</td>\n",
              "    </tr>\n",
              "    <tr>\n",
              "      <th>271</th>\n",
              "      <td>15688172</td>\n",
              "      <td>0</td>\n",
              "      <td>59</td>\n",
              "      <td>76000</td>\n",
              "      <td>1</td>\n",
              "    </tr>\n",
              "    <tr>\n",
              "      <th>272</th>\n",
              "      <td>15791373</td>\n",
              "      <td>1</td>\n",
              "      <td>60</td>\n",
              "      <td>42000</td>\n",
              "      <td>1</td>\n",
              "    </tr>\n",
              "    <tr>\n",
              "      <th>280</th>\n",
              "      <td>15609669</td>\n",
              "      <td>0</td>\n",
              "      <td>59</td>\n",
              "      <td>88000</td>\n",
              "      <td>1</td>\n",
              "    </tr>\n",
              "    <tr>\n",
              "      <th>300</th>\n",
              "      <td>15736397</td>\n",
              "      <td>0</td>\n",
              "      <td>58</td>\n",
              "      <td>38000</td>\n",
              "      <td>1</td>\n",
              "    </tr>\n",
              "    <tr>\n",
              "      <th>336</th>\n",
              "      <td>15664907</td>\n",
              "      <td>1</td>\n",
              "      <td>58</td>\n",
              "      <td>144000</td>\n",
              "      <td>1</td>\n",
              "    </tr>\n",
              "    <tr>\n",
              "      <th>355</th>\n",
              "      <td>15606472</td>\n",
              "      <td>1</td>\n",
              "      <td>60</td>\n",
              "      <td>34000</td>\n",
              "      <td>1</td>\n",
              "    </tr>\n",
              "    <tr>\n",
              "      <th>365</th>\n",
              "      <td>15807525</td>\n",
              "      <td>0</td>\n",
              "      <td>59</td>\n",
              "      <td>29000</td>\n",
              "      <td>1</td>\n",
              "    </tr>\n",
              "    <tr>\n",
              "      <th>366</th>\n",
              "      <td>15574372</td>\n",
              "      <td>0</td>\n",
              "      <td>58</td>\n",
              "      <td>47000</td>\n",
              "      <td>1</td>\n",
              "    </tr>\n",
              "    <tr>\n",
              "      <th>370</th>\n",
              "      <td>15611430</td>\n",
              "      <td>0</td>\n",
              "      <td>60</td>\n",
              "      <td>46000</td>\n",
              "      <td>1</td>\n",
              "    </tr>\n",
              "    <tr>\n",
              "      <th>371</th>\n",
              "      <td>15774744</td>\n",
              "      <td>1</td>\n",
              "      <td>60</td>\n",
              "      <td>83000</td>\n",
              "      <td>1</td>\n",
              "    </tr>\n",
              "    <tr>\n",
              "      <th>373</th>\n",
              "      <td>15708791</td>\n",
              "      <td>1</td>\n",
              "      <td>59</td>\n",
              "      <td>130000</td>\n",
              "      <td>1</td>\n",
              "    </tr>\n",
              "    <tr>\n",
              "      <th>379</th>\n",
              "      <td>15749381</td>\n",
              "      <td>0</td>\n",
              "      <td>58</td>\n",
              "      <td>23000</td>\n",
              "      <td>1</td>\n",
              "    </tr>\n",
              "    <tr>\n",
              "      <th>393</th>\n",
              "      <td>15635893</td>\n",
              "      <td>1</td>\n",
              "      <td>60</td>\n",
              "      <td>42000</td>\n",
              "      <td>1</td>\n",
              "    </tr>\n",
              "  </tbody>\n",
              "</table>\n",
              "</div>"
            ],
            "text/plain": [
              "      User ID  Gender  Age  EstimatedSalary  Purchased\n",
              "64   15605000       0   59            83000          0\n",
              "204  15660866       0   58           101000          1\n",
              "212  15707596       0   59            42000          0\n",
              "215  15779529       0   60           108000          1\n",
              "219  15732987       1   59           143000          1\n",
              "223  15593715       1   60           102000          1\n",
              "258  15569641       0   58            95000          1\n",
              "271  15688172       0   59            76000          1\n",
              "272  15791373       1   60            42000          1\n",
              "280  15609669       0   59            88000          1\n",
              "300  15736397       0   58            38000          1\n",
              "336  15664907       1   58           144000          1\n",
              "355  15606472       1   60            34000          1\n",
              "365  15807525       0   59            29000          1\n",
              "366  15574372       0   58            47000          1\n",
              "370  15611430       0   60            46000          1\n",
              "371  15774744       1   60            83000          1\n",
              "373  15708791       1   59           130000          1\n",
              "379  15749381       0   58            23000          1\n",
              "393  15635893       1   60            42000          1"
            ]
          },
          "metadata": {
            "tags": []
          },
          "execution_count": 22
        }
      ]
    },
    {
      "cell_type": "code",
      "metadata": {
        "id": "uQsguMg6Y-yJ"
      },
      "source": [
        "from sklearn.model_selection import train_test_split\n",
        "\n",
        "x_train,x_test,y_train,y_test=train_test_split(x,y,test_size=0.2,random_state=10)"
      ],
      "execution_count": 24,
      "outputs": []
    },
    {
      "cell_type": "code",
      "metadata": {
        "colab": {
          "base_uri": "https://localhost:8080/"
        },
        "id": "Tt-ceu2TYrfY",
        "outputId": "29587048-6aa9-439f-b616-2e2705a7c27f"
      },
      "source": [
        "from sklearn.neighbors import KNeighborsClassifier \n",
        "KNN = KNeighborsClassifier(n_neighbors=3) \n",
        "KNN.fit(x_train,y_train) \n",
        "\n",
        "y_pred = KNN.predict(x_test)\n",
        "y_pred"
      ],
      "execution_count": 25,
      "outputs": [
        {
          "output_type": "execute_result",
          "data": {
            "text/plain": [
              "array([0, 0, 1, 1, 0, 1, 0, 1, 0, 0, 0, 1, 1, 1, 1, 0, 0, 0, 0, 1, 0, 0,\n",
              "       0, 1, 1, 0, 0, 1, 1, 0, 0, 0, 0, 1, 1, 0, 0, 1, 0, 0, 0, 1, 0, 0,\n",
              "       0, 0, 1, 0, 1, 0, 1, 1, 1, 0, 0, 1, 1, 0, 1, 1, 0, 1, 0, 1, 1, 0,\n",
              "       0, 1, 0, 0, 0, 1, 0, 0, 0, 0, 0, 0, 1, 1])"
            ]
          },
          "metadata": {
            "tags": []
          },
          "execution_count": 25
        }
      ]
    },
    {
      "cell_type": "code",
      "metadata": {
        "colab": {
          "base_uri": "https://localhost:8080/"
        },
        "id": "UZjkvmaJYrbo",
        "outputId": "7d2bdb22-575f-4d88-89b6-284e9ab9ae58"
      },
      "source": [
        "from sklearn.metrics import confusion_matrix\n",
        "cm = confusion_matrix(y_test,y_pred)\n",
        "cm"
      ],
      "execution_count": 28,
      "outputs": [
        {
          "output_type": "execute_result",
          "data": {
            "text/plain": [
              "array([[46,  6],\n",
              "       [ 1, 27]])"
            ]
          },
          "metadata": {
            "tags": []
          },
          "execution_count": 28
        }
      ]
    },
    {
      "cell_type": "code",
      "metadata": {
        "colab": {
          "base_uri": "https://localhost:8080/"
        },
        "id": "LkystcdnYrY-",
        "outputId": "75ac56ea-db32-45d9-ad8a-705cd6efad5e"
      },
      "source": [
        "from sklearn.metrics import accuracy_score\n",
        "acc=accuracy_score(y_test,y_pred)\n",
        "print(acc*100)"
      ],
      "execution_count": 31,
      "outputs": [
        {
          "output_type": "stream",
          "text": [
            "91.25\n"
          ],
          "name": "stdout"
        }
      ]
    },
    {
      "cell_type": "code",
      "metadata": {
        "colab": {
          "base_uri": "https://localhost:8080/"
        },
        "id": "YR4iB3j5YrTG",
        "outputId": "8dda1ecb-9f0a-4d34-dade-9b4298bdb710"
      },
      "source": [
        "from sklearn.metrics import classification_report\n",
        "print(classification_report(y_test,y_pred))"
      ],
      "execution_count": 33,
      "outputs": [
        {
          "output_type": "stream",
          "text": [
            "              precision    recall  f1-score   support\n",
            "\n",
            "           0       0.98      0.88      0.93        52\n",
            "           1       0.82      0.96      0.89        28\n",
            "\n",
            "    accuracy                           0.91        80\n",
            "   macro avg       0.90      0.92      0.91        80\n",
            "weighted avg       0.92      0.91      0.91        80\n",
            "\n"
          ],
          "name": "stdout"
        }
      ]
    },
    {
      "cell_type": "code",
      "metadata": {
        "colab": {
          "base_uri": "https://localhost:8080/",
          "height": 297
        },
        "id": "g8jQc-9GYrLC",
        "outputId": "9c4bcd24-e172-4c1e-fa94-9c86462c8eb5"
      },
      "source": [
        "sns.boxplot(x='Purchased',y='Age',data=df)"
      ],
      "execution_count": 40,
      "outputs": [
        {
          "output_type": "execute_result",
          "data": {
            "text/plain": [
              "<matplotlib.axes._subplots.AxesSubplot at 0x7f5bee8e6790>"
            ]
          },
          "metadata": {
            "tags": []
          },
          "execution_count": 40
        },
        {
          "output_type": "display_data",
          "data": {
            "image/png": "[encoded data removed]",
            "text/plain": [
              "<Figure size 432x288 with 1 Axes>"
            ]
          },
          "metadata": {
            "tags": []
          }
        }
      ]
    },
    {
      "cell_type": "code",
      "metadata": {
        "colab": {
          "base_uri": "https://localhost:8080/",
          "height": 406
        },
        "id": "jSYeOPXXabRl",
        "outputId": "725792c7-09cb-493c-ca70-8f5e904d6278"
      },
      "source": [
        "plt.figure(figsize=(15,6))\n",
        "sns.boxplot(x='Age',y='EstimatedSalary',data=df)"
      ],
      "execution_count": 39,
      "outputs": [
        {
          "output_type": "execute_result",
          "data": {
            "text/plain": [
              "<matplotlib.axes._subplots.AxesSubplot at 0x7f5beee56f90>"
            ]
          },
          "metadata": {
            "tags": []
          },
          "execution_count": 39
        },
        {
          "output_type": "display_data",
          "data": {
            "image/png": "[encoded data removed]",
            "text/plain": [
              "<Figure size 1080x432 with 1 Axes>"
            ]
          },
          "metadata": {
            "tags": []
          }
        }
      ]
    },
    {
      "cell_type": "code",
      "metadata": {
        "colab": {
          "base_uri": "https://localhost:8080/",
          "height": 309
        },
        "id": "yq8Nw3BiYrFu",
        "outputId": "1ede5284-0c80-48c3-e291-43a78c554e8f"
      },
      "source": [
        "plt.figure(figsize=(5,5))\n",
        "sns.heatmap(cm, annot=True, fmt=\".2f\", linewidths=.5, square = True, cmap = 'Blues_r')\n",
        "\n",
        "plt.ylabel('Actual label')\n",
        "plt.xlabel('Predicted label')\n",
        "\n",
        "A=f'Accuracy Score :{acc:.2f}'\n",
        "\n",
        "plt.title(A)\n",
        "plt.show()"
      ],
      "execution_count": 35,
      "outputs": [
        {
          "output_type": "display_data",
          "data": {
            "image/png": "[encoded data removed]",
            "text/plain": [
              "<Figure size 360x360 with 2 Axes>"
            ]
          },
          "metadata": {
            "tags": []
          }
        }
      ]
    },
    {
      "cell_type": "markdown",
      "metadata": {
        "id": "PdAM7zk5aFkA"
      },
      "source": [
        "#End Of Assignment"
      ]
    },
    {
      "cell_type": "markdown",
      "metadata": {
        "id": "03pzTIpXaIxk"
      },
      "source": [
        "**Author** : Rammya Dharshini K\n",
        "\n",
        "**Date** : 18-06-2021\n",
        "\n",
        "**Reg.ID** : GO_STP_1613"
      ]
    }
  ]
}